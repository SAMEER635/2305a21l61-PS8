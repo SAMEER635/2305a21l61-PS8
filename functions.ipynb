{
 "cells": [
  {
   "cell_type": "code",
   "execution_count": null,
   "id": "15332dfe-6014-42c6-a51f-066833b8636e",
   "metadata": {},
   "outputs": [],
   "source": [
    "\"\"\"id()\n",
    "type()\n",
    "eval()\n",
    "input()'''"
   ]
  },
  {
   "cell_type": "code",
   "execution_count": 1,
   "id": "ca36d440-36b2-483e-83b8-660a5275cd1c",
   "metadata": {},
   "outputs": [
    {
     "name": "stdout",
     "output_type": "stream",
     "text": [
      "happiest birthday bestie\n",
      "u r getting old\n"
     ]
    }
   ],
   "source": [
    "print(\"happiest birthday bestie\")\n",
    "print(\"u r getting old\")"
   ]
  },
  {
   "cell_type": "code",
   "execution_count": 7,
   "id": "8f777aa9-4a3e-4af2-a95b-b821bfc83f12",
   "metadata": {},
   "outputs": [
    {
     "name": "stdout",
     "output_type": "stream",
     "text": [
      "happiest birthday bestie harsha\n",
      "u r getting old 22\n",
      "happiest birthday bestie pranay\n",
      "u r getting old 21\n",
      "happiest birthday bestie darshan\n",
      "u r getting old 21\n"
     ]
    }
   ],
   "source": [
    "def happy_birthday(name,age):\n",
    "    print(f\"happiest birthday bestie {name}\")\n",
    "    print(f\"u r getting old {age}\")\n",
    "happy_birthday(\"harsha\",22)\n",
    "happy_birthday(\"pranay\",21)\n",
    "happy_birthday(\"darshan\",21)"
   ]
  },
  {
   "cell_type": "code",
   "execution_count": 13,
   "id": "165dd1a1-6c5d-42d7-a86f-9253588712ec",
   "metadata": {
    "scrolled": true
   },
   "outputs": [
    {
     "name": "stdout",
     "output_type": "stream",
     "text": [
      "congratulatons you won a car bolera\n",
      "with a cash prize of  2000000\n",
      "congratulatons you won a car tata\n",
      "with a cash prize of  1900000\n",
      "congratulatons you won a car nano\n",
      "with a cash prize of  1110000\n"
     ]
    }
   ],
   "source": [
    "def congratulations(car,cost):\n",
    "    print(f\"congratulatons you won a car {car}\")\n",
    "    print(f\"with a cash prize of  {cost}\")\n",
    "congratulations(\"bolera\",2000000)\n",
    "congratulations(\"tata\",1900000)\n",
    "congratulations(\"nano\",1110000)"
   ]
  },
  {
   "cell_type": "code",
   "execution_count": 22,
   "id": "9c4bd452-8e3a-4522-bff7-89cf4925d75c",
   "metadata": {},
   "outputs": [
    {
     "name": "stdout",
     "output_type": "stream",
     "text": [
      "hello sameer,you are 20 years of old\n",
      "hello 27,you are srujan years of old\n"
     ]
    }
   ],
   "source": [
    "#POSITIONAL ARGUMENTS\n",
    "def greet(name,age):\n",
    "   print(f\"hello {name},you are {age} years of old\")\n",
    "greet(\"sameer\",20)\n",
    "greet(27,\"srujan\")"
   ]
  },
  {
   "cell_type": "code",
   "execution_count": 27,
   "id": "aeebdd27-4fca-4ffd-ab98-90183b96c0ad",
   "metadata": {},
   "outputs": [
    {
     "name": "stdout",
     "output_type": "stream",
     "text": [
      " wishing you a happy anniversary pappa and ammi \n"
     ]
    }
   ],
   "source": [
    "def wish(pappa,ammi):\n",
    "    print(f\" wishing you a happy anniversary {pappa} and {ammi} \")\n",
    "wish(\"pappa\",\"ammi\")"
   ]
  },
  {
   "cell_type": "code",
   "execution_count": 25,
   "id": "fb40f725-5fc5-4f82-bee0-2be50c354d92",
   "metadata": {},
   "outputs": [
    {
     "name": "stdout",
     "output_type": "stream",
     "text": [
      "hi sameer,you are 20 years of old\n"
     ]
    }
   ],
   "source": [
    "#KEYWORD ARGUMENTS\n",
    "def greet(name,age):\n",
    "    print(f\"hi {name},you are {age} years of old\")\n",
    "greet(age=20,name=\"sameer\")\n"
   ]
  },
  {
   "cell_type": "code",
   "execution_count": 2,
   "id": "22f15a81-2b67-4c28-a26e-6243f825d3ed",
   "metadata": {},
   "outputs": [
    {
     "name": "stdout",
     "output_type": "stream",
     "text": [
      " hnk is  mndl is in telangana\n"
     ]
    }
   ],
   "source": [
    "def college(city,mndl=1):\n",
    "    print(f\" {city} is  {mndl} is in telangana\")\n",
    "college(\"hnk\",\"mndl\")"
   ]
  },
  {
   "cell_type": "code",
   "execution_count": 48,
   "id": "091501c9-bc5a-4715-838e-84a9c289e8fb",
   "metadata": {},
   "outputs": [
    {
     "name": "stdout",
     "output_type": "stream",
     "text": [
      "hello('pranay', 'sameer', 'rizwan')\n",
      "hello('pranay', 'sameer', 'rizwan')\n",
      "hello('pranay', 'sameer', 'rizwan')\n"
     ]
    }
   ],
   "source": [
    "def hbd(*names):\n",
    "    for name in names:\n",
    "        print(f\"hello{names}\")\n",
    "hbd(\"pranay\",\"sameer\",\"rizwan\")#it turned it in to tuple"
   ]
  },
  {
   "cell_type": "code",
   "execution_count": 53,
   "id": "97bb8471-e4d2-451b-9239-70d9a6f6a67f",
   "metadata": {},
   "outputs": [
    {
     "name": "stdout",
     "output_type": "stream",
     "text": [
      "name,sam\n",
      "age,20\n",
      "city,hyd\n"
     ]
    }
   ],
   "source": [
    "#**keyword arguments\n",
    "def hi(**hellow):\n",
    "    for key,value in hellow.items():\n",
    "        print(f\"{key},{value}\")\n",
    "hi(name=\"sam\",age=20,city=\"hyd\")\n",
    "    "
   ]
  },
  {
   "cell_type": "code",
   "execution_count": 60,
   "id": "c1013e2f-ba5d-4810-b836-e869df239aa6",
   "metadata": {},
   "outputs": [
    {
     "name": "stdout",
     "output_type": "stream",
     "text": [
      "hi sam,you are 20 years of old\n"
     ]
    }
   ],
   "source": [
    "#keyword only argument\n",
    "def greet(name,*,age):\n",
    "    print(f\"hi {name},you are {age} years of old\")\n",
    "greet(\"sam\",age=20)\n",
    "\n",
    "\n"
   ]
  },
  {
   "cell_type": "code",
   "execution_count": 64,
   "id": "c5004d2c-3d24-47c1-8994-8baf3a13341d",
   "metadata": {},
   "outputs": [
    {
     "name": "stdout",
     "output_type": "stream",
     "text": [
      "hello sam\n",
      "hello pranay\n",
      "age,78\n",
      "city,hyd\n"
     ]
    }
   ],
   "source": [
    "#arbitary argumrnts(*args and **kwargs)\n",
    "def hi(*names,**info):\n",
    "    for name in names:\n",
    "        print(f\"hello {name}\")\n",
    "    for key,value in info.items():\n",
    "        print(f\"{key},{value}\n",
    "hi(\"sam\",\"pranay\",age=78,city=\"hyd\")\n",
    "        "
   ]
  },
  {
   "cell_type": "code",
   "execution_count": 81,
   "id": "22aa7eae-ce9b-4121-a84e-a80b361117ea",
   "metadata": {},
   "outputs": [
    {
     "name": "stdin",
     "output_type": "stream",
     "text": [
      "enter your name sameer\n"
     ]
    },
    {
     "name": "stdout",
     "output_type": "stream",
     "text": [
      "wishing u all the best ['sameer']\n"
     ]
    }
   ],
   "source": [
    "def wish(name):\n",
    "    name=name.split()\n",
    "    print(f\"wishing u all the best {name}\")\n",
    "name=input(\"enter your name\")\n",
    "wish(name)"
   ]
  },
  {
   "cell_type": "code",
   "execution_count": 102,
   "id": "8d99ca6a-0aa7-48b4-b58a-8da963a93a0b",
   "metadata": {},
   "outputs": [
    {
     "name": "stdout",
     "output_type": "stream",
     "text": [
      "Merged List: [1, 2, 3, 4, 5, 6]\n"
     ]
    },
    {
     "data": {
      "text/plain": [
       "[1, 2, 3, 4, 5, 6]"
      ]
     },
     "execution_count": 102,
     "metadata": {},
     "output_type": "execute_result"
    }
   ],
   "source": [
    "def merge_lists(list1, list2):\n",
    "    return list1 + list2\n",
    "\n",
    "list1 = [1, 2, 3]\n",
    "list2 = [4, 5, 6]\n",
    "\n",
    "merged_list = merge_lists(list1, list2)\n",
    "print(f\"Merged List: {merged_list}\")\n",
    "merge_lists(list1,list2)\n"
   ]
  },
  {
   "cell_type": "code",
   "execution_count": 106,
   "id": "0a166f6b-27ff-4a64-8044-12c17896c2c2",
   "metadata": {},
   "outputs": [
    {
     "name": "stdin",
     "output_type": "stream",
     "text": [
      "enter any list [8,9,7]\n",
      "enter any list [8,7,6]\n"
     ]
    },
    {
     "name": "stdout",
     "output_type": "stream",
     "text": [
      "Merged List: [8, 9, 7, 8, 7, 6]\n"
     ]
    },
    {
     "data": {
      "text/plain": [
       "[1, 7, 9, 8, 6, 5]"
      ]
     },
     "execution_count": 106,
     "metadata": {},
     "output_type": "execute_result"
    }
   ],
   "source": [
    "def merge_lists(list1, list2):\n",
    "    return list1 + list2\n",
    "l1=eval(input(\"enter any list\"))\n",
    "l2=eval(input(\"enter any list\"))\n",
    "    \n",
    "\n",
    "merged_list = merge_lists(l1, l2)\n",
    "print(f\"Merged List: {merged_list}\")\n",
    "merge_lists(list1,list2)\n"
   ]
  },
  {
   "cell_type": "code",
   "execution_count": 114,
   "id": "eef1c70a-139f-473a-adf9-b134614628eb",
   "metadata": {},
   "outputs": [
    {
     "name": "stdout",
     "output_type": "stream",
     "text": [
      "username:pranay\n",
      "amount:9087\n",
      "due_date:12-12-2024\n"
     ]
    }
   ],
   "source": [
    "def invoice(user_name,amount,due_date):\n",
    "    print(f\"username:{user_name}\")\n",
    "    print(f\"amount:{amount}\")\n",
    "    print(f\"due_date:{due_date}\")\n",
    "invoice(\"pranay\",9087,\"12-12-2024\")\n"
   ]
  },
  {
   "cell_type": "code",
   "execution_count": 4,
   "id": "9de691db-8409-4815-9392-552373f6c616",
   "metadata": {},
   "outputs": [
    {
     "name": "stdin",
     "output_type": "stream",
     "text": [
      "enter firstname: sameee\n",
      "enter lastname: shaik\n"
     ]
    },
    {
     "name": "stdout",
     "output_type": "stream",
     "text": [
      "fullname:a+  + b\n"
     ]
    }
   ],
   "source": [
    "def name(fname,lname):\n",
    "    fname=fname.capitalize()\n",
    "    lname=lname.capitalize()\n",
    "    print(f\"fullname:a+  + b\")\n",
    "a=input(\"enter firstname:\")\n",
    "b=input(\"enter lastname:\")\n",
    "name(a,b)"
   ]
  },
  {
   "cell_type": "code",
   "execution_count": 145,
   "id": "f8d1d49c-0ce9-4495-a1c3-228fae21935e",
   "metadata": {},
   "outputs": [
    {
     "name": "stdout",
     "output_type": "stream",
     "text": [
      "sameer shaik\n"
     ]
    }
   ],
   "source": [
    "def merge_names(first_name, last_name):\n",
    "    return f\"{first_name} {last_name}\"\n",
    "first = \"sameer\"\n",
    "last_name = \"shaik\"\n",
    "full_name = merge_names(first,last)\n",
    "print(full_name)\n"
   ]
  },
  {
   "cell_type": "code",
   "execution_count": 3,
   "id": "2b8e9399-1cc7-4ee1-873e-ee10c0d2e683",
   "metadata": {},
   "outputs": [
    {
     "name": "stdin",
     "output_type": "stream",
     "text": [
      "enter any value: 1\n",
      "enter any value: 23\n"
     ]
    },
    {
     "name": "stdout",
     "output_type": "stream",
     "text": [
      " addition = 24\n"
     ]
    }
   ],
   "source": [
    "def add(a,b):\n",
    "    r=a+b\n",
    "    print(f\" addition =\",r)\n",
    "o=int(input(\"enter any value:\"))\n",
    "p=int(input(\"enter any value:\"))\n",
    "add(o,p)"
   ]
  },
  {
   "cell_type": "code",
   "execution_count": 31,
   "id": "d695d915-9408-4f5b-b33d-c6764bb12b5f",
   "metadata": {},
   "outputs": [
    {
     "name": "stdout",
     "output_type": "stream",
     "text": [
      " the average is 83.4\n",
      "your grade is : A\n"
     ]
    }
   ],
   "source": [
    "def find_avg_marks(marks):\n",
    "    sum_num=sum(marks)\n",
    "    total=len(marks)\n",
    "    avg=sum_num/total\n",
    "    return avg\n",
    "def compute_grade(avg):\n",
    "    if avg>=80:\n",
    "        grade='A'\n",
    "    elif avg>=70:\n",
    "        grade='B'\n",
    "    elif avg>=60:\n",
    "        grade='c'\n",
    "    else:\n",
    "        grade='d'\n",
    "    return grade\n",
    "\n",
    "marks=[100,62,73,94,55,86,87,78,99,100]\n",
    "avg=find_avg_marks(marks)\n",
    "print(f\" the average is\",avg)\n",
    "grade=compute_grade(avg)\n",
    "print(\"your grade is :\",grade)"
   ]
  },
  {
   "cell_type": "code",
   "execution_count": 49,
   "id": "bacc61e8-6fe2-4308-b211-a69a3bf8eb5a",
   "metadata": {},
   "outputs": [
    {
     "name": "stdout",
     "output_type": "stream",
     "text": [
      " average is  86.75\n"
     ]
    },
    {
     "ename": "TypeError",
     "evalue": "'>=' not supported between instances of 'list' and 'int'",
     "output_type": "error",
     "traceback": [
      "\u001b[1;31m---------------------------------------------------------------------------\u001b[0m",
      "\u001b[1;31mTypeError\u001b[0m                                 Traceback (most recent call last)",
      "Cell \u001b[1;32mIn[49], line 19\u001b[0m\n\u001b[0;32m     17\u001b[0m asd\u001b[38;5;241m=\u001b[39mavg_marks(marks)\n\u001b[0;32m     18\u001b[0m \u001b[38;5;28mprint\u001b[39m(\u001b[38;5;124mf\u001b[39m\u001b[38;5;124m\"\u001b[39m\u001b[38;5;124m average is \u001b[39m\u001b[38;5;124m\"\u001b[39m,asd)\n\u001b[1;32m---> 19\u001b[0m grade\u001b[38;5;241m=\u001b[39m\u001b[43mwant\u001b[49m\u001b[43m(\u001b[49m\u001b[43masd\u001b[49m\u001b[43m)\u001b[49m\n\u001b[0;32m     20\u001b[0m \u001b[38;5;28mprint\u001b[39m(\u001b[38;5;124mf\u001b[39m\u001b[38;5;124m\"\u001b[39m\u001b[38;5;124m your grade is \u001b[39m\u001b[38;5;124m\"\u001b[39m,grade)\n",
      "Cell \u001b[1;32mIn[49], line 7\u001b[0m, in \u001b[0;36mwant\u001b[1;34m(asd)\u001b[0m\n\u001b[0;32m      6\u001b[0m \u001b[38;5;28;01mdef\u001b[39;00m \u001b[38;5;21mwant\u001b[39m(asd):\n\u001b[1;32m----> 7\u001b[0m     \u001b[38;5;28;01mif\u001b[39;00m \u001b[43mmarks\u001b[49m\u001b[38;5;241;43m>\u001b[39;49m\u001b[38;5;241;43m=\u001b[39;49m\u001b[38;5;241;43m90\u001b[39;49m:\n\u001b[0;32m      8\u001b[0m         grade\u001b[38;5;241m=\u001b[39m\u001b[38;5;124m'\u001b[39m\u001b[38;5;124mA\u001b[39m\u001b[38;5;124m'\u001b[39m\n\u001b[0;32m      9\u001b[0m     \u001b[38;5;28;01melif\u001b[39;00m marks\u001b[38;5;241m>\u001b[39m\u001b[38;5;241m=\u001b[39m\u001b[38;5;241m80\u001b[39m:\n",
      "\u001b[1;31mTypeError\u001b[0m: '>=' not supported between instances of 'list' and 'int'"
     ]
    }
   ],
   "source": [
    "def avg_marks(marks):\n",
    "    sum_n=sum(marks)\n",
    "    t=len(marks)\n",
    "    avg=sum_n/t\n",
    "    return avg\n",
    "def want(asd):\n",
    "    if marks>=90:\n",
    "        grade='A'\n",
    "    elif marks>=80:\n",
    "        grade='B'\n",
    "    elif marks>=70:\n",
    "        grade='c'\n",
    "    else:\n",
    "        grade='d'\n",
    "    return grade\n",
    "marks=[81,79,88,88,90,89,81,98]\n",
    "asd=avg_marks(marks)\n",
    "print(f\" average is \",asd)\n",
    "grade=want(asd)\n",
    "print(f\" your grade is \",grade)"
   ]
  },
  {
   "cell_type": "code",
   "execution_count": null,
   "id": "c3582b02-50bf-4874-8edb-f59c458b6050",
   "metadata": {},
   "outputs": [],
   "source": []
  }
 ],
 "metadata": {
  "kernelspec": {
   "display_name": "Python 3 (ipykernel)",
   "language": "python",
   "name": "python3"
  },
  "language_info": {
   "codemirror_mode": {
    "name": "ipython",
    "version": 3
   },
   "file_extension": ".py",
   "mimetype": "text/x-python",
   "name": "python",
   "nbconvert_exporter": "python",
   "pygments_lexer": "ipython3",
   "version": "3.13.1"
  }
 },
 "nbformat": 4,
 "nbformat_minor": 5
}
