{
 "cells": [
  {
   "cell_type": "code",
   "execution_count": 7,
   "id": "d0c6ac54-4bb0-48a3-ac0c-3dd988951020",
   "metadata": {},
   "outputs": [
    {
     "name": "stdout",
     "output_type": "stream",
     "text": [
      "the given number is odd\n"
     ]
    }
   ],
   "source": [
    "x=5\n",
    "if(x%2==0):\n",
    "    print(\"the given number is even\")\n",
    "else:\n",
    "    print(\"the given number is odd\")"
   ]
  },
  {
   "cell_type": "code",
   "execution_count": 2,
   "id": "f57b37af-c298-4ce2-bcc6-c3971c0cefa2",
   "metadata": {},
   "outputs": [
    {
     "name": "stdout",
     "output_type": "stream",
     "text": [
      "the given number is not  even\n"
     ]
    }
   ],
   "source": [
    "y=10\n",
    "if(y%2==0):\n",
    "    print(\"the given number is not  even\")\n",
    "else:\n",
    "    print(\"the given number is odd\")"
   ]
  },
  {
   "cell_type": "code",
   "execution_count": 12,
   "id": "02a37d8e-3d8e-4804-b93f-0a2868fb7995",
   "metadata": {},
   "outputs": [
    {
     "name": "stdout",
     "output_type": "stream",
     "text": [
      "you are eligible to vote\n"
     ]
    }
   ],
   "source": [
    "my_age=18\n",
    "if(my_age>=18):\n",
    "    print(\"you are eligible to vote\")\n",
    "else:\n",
    "    print(\"you are not eligible\")\n"
   ]
  },
  {
   "cell_type": "code",
   "execution_count": 19,
   "id": "93312a73-0671-4757-8179-5864842e181a",
   "metadata": {},
   "outputs": [
    {
     "name": "stdin",
     "output_type": "stream",
     "text": [
      "enter your age: 23\n"
     ]
    },
    {
     "name": "stdout",
     "output_type": "stream",
     "text": [
      "you are eligible to vote\n"
     ]
    }
   ],
   "source": [
    "age=int(input(\"enter your age:\"))\n",
    "if(age>=18):\n",
    "     print(\"you are eligible to vote\")\n",
    "else:\n",
    "     print(\"you are not eligible to vote\")\n",
    "     \n",
    "        \n",
    "  "
   ]
  },
  {
   "cell_type": "code",
   "execution_count": 1,
   "id": "1743cb36-ecf8-4c32-93e1-2f6d09cd3828",
   "metadata": {},
   "outputs": [
    {
     "name": "stdin",
     "output_type": "stream",
     "text": [
      "enter your marks: 71\n"
     ]
    },
    {
     "name": "stdout",
     "output_type": "stream",
     "text": [
      "A+ grade\n"
     ]
    }
   ],
   "source": [
    "marks=int(input(\"enter your marks:\"))\n",
    "if(marks>70):\n",
    "    print(\"A+ grade\")\n",
    "elif(60<marks<70):\n",
    "    print(\"A grade\")\n",
    "elif(50<marks<60):\n",
    "    print(\"B grade\")\n",
    "elif(35<marks<50):\n",
    "    print(\"c grade\")\n",
    "else:\n",
    "    print(\"f grade\")\n",
    "    \n",
    "    \n",
    "          \n",
    "          "
   ]
  },
  {
   "cell_type": "code",
   "execution_count": null,
   "id": "3db651c2-9f55-4e8f-ab61-cfc738cfacd0",
   "metadata": {},
   "outputs": [],
   "source": [
    "\n"
   ]
  }
 ],
 "metadata": {
  "kernelspec": {
   "display_name": "Python 3 (ipykernel)",
   "language": "python",
   "name": "python3"
  },
  "language_info": {
   "codemirror_mode": {
    "name": "ipython",
    "version": 3
   },
   "file_extension": ".py",
   "mimetype": "text/x-python",
   "name": "python",
   "nbconvert_exporter": "python",
   "pygments_lexer": "ipython3",
   "version": "3.13.1"
  }
 },
 "nbformat": 4,
 "nbformat_minor": 5
}
