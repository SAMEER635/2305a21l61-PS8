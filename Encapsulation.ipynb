{
 "cells": [
  {
   "cell_type": "code",
   "execution_count": 8,
   "id": "585e970d-891b-4071-a181-2d40122c9434",
   "metadata": {},
   "outputs": [
    {
     "name": "stdout",
     "output_type": "stream",
     "text": [
      "i am public\n",
      "i am protected\n",
      "i am private\n"
     ]
    }
   ],
   "source": [
    "class Example:\n",
    "    def __init__(self):\n",
    "        self.public_var=\"i am public\"\n",
    "        self._protected_var=\"i am protected\"#single underscore\n",
    "        self.__private_var=\"i am private\"#double underscore\n",
    "\n",
    "    def show_private(self):#method to access the private variable\n",
    "        return self.__private_var\n",
    "obj=Example()            #create object of the class\n",
    "\n",
    "print(obj.public_var)         #public:accesible directly\n",
    "print(obj._protected_var)     #protected :accesible directly(not recommeded)\n",
    "#obj.show_private()\n",
    "#print(obj.__private_var)\n",
    "print(obj.show_private())    # acccesible only within the class(prefix_\n",
    "                             #not directly accesible directly\n",
    "                            #it will raise attribute error"
   ]
  },
  {
   "cell_type": "code",
   "execution_count": 22,
   "id": "afae7a9f-15df-4f6f-8763-b864411a5deb",
   "metadata": {},
   "outputs": [
    {
     "ename": "NameError",
     "evalue": "name 'self' is not defined",
     "output_type": "error",
     "traceback": [
      "\u001b[1;31m---------------------------------------------------------------------------\u001b[0m",
      "\u001b[1;31mNameError\u001b[0m                                 Traceback (most recent call last)",
      "Cell \u001b[1;32mIn[22], line 15\u001b[0m\n\u001b[0;32m     13\u001b[0m account\u001b[38;5;241m=\u001b[39mAccount()\n\u001b[0;32m     14\u001b[0m account\u001b[38;5;241m.\u001b[39mset_account_number(\u001b[38;5;124m\"\u001b[39m\u001b[38;5;124m6303974172\u001b[39m\u001b[38;5;124m\"\u001b[39m)\n\u001b[1;32m---> 15\u001b[0m \u001b[43maccount\u001b[49m\u001b[38;5;241;43m.\u001b[39;49m\u001b[43mset_balance\u001b[49m\u001b[43m(\u001b[49m\u001b[38;5;241;43m5000\u001b[39;49m\u001b[43m)\u001b[49m\n\u001b[0;32m     16\u001b[0m \u001b[38;5;28mprint\u001b[39m(\u001b[38;5;124m\"\u001b[39m\u001b[38;5;124maccount_number:\u001b[39m\u001b[38;5;124m\"\u001b[39m,account\u001b[38;5;241m.\u001b[39mget_account_number())\n\u001b[0;32m     17\u001b[0m \u001b[38;5;28mprint\u001b[39m(\u001b[38;5;124m\"\u001b[39m\u001b[38;5;124mbalance:\u001b[39m\u001b[38;5;124m\"\u001b[39m,account\u001b[38;5;241m.\u001b[39mget_balance())\n",
      "Cell \u001b[1;32mIn[22], line 10\u001b[0m, in \u001b[0;36mAccount.set_balance\u001b[1;34m(Self, balance)\u001b[0m\n\u001b[0;32m      9\u001b[0m \u001b[38;5;28;01mdef\u001b[39;00m \u001b[38;5;21mset_balance\u001b[39m(Self,balance):\n\u001b[1;32m---> 10\u001b[0m     \u001b[38;5;28;43mself\u001b[39;49m\u001b[38;5;241m.\u001b[39m__balance\u001b[38;5;241m=\u001b[39mbalance\n",
      "\u001b[1;31mNameError\u001b[0m: name 'self' is not defined"
     ]
    }
   ],
   "source": [
    "class Account:\n",
    "    def __init__(self):#private variables \n",
    "        self.__account_number=None\n",
    "        self.__balance=0\n",
    "    def set_account_number(self,account_number):#methods\n",
    "        self.__account_number=account_number\n",
    "    def get_account_number(self):\n",
    "        return self.__account_number  \n",
    "    def set_balance(Self,balance):\n",
    "        self.__balance=balance\n",
    "    def get_balance(self):\n",
    "        return self.__balance\n",
    "account=Account()\n",
    "account.set_account_number(\"6303974172\")\n",
    "account.set_balance(5000)\n",
    "print(\"account_number:\",account.get_account_number())\n",
    "print(\"balance:\",account.get_balance())"
   ]
  },
  {
   "cell_type": "code",
   "execution_count": 23,
   "id": "627239d8-6565-4e1a-8f74-dad891ab53d0",
   "metadata": {},
   "outputs": [
    {
     "name": "stdout",
     "output_type": "stream",
     "text": [
      "account_number: 6303974172\n",
      "balance: 5000\n"
     ]
    }
   ],
   "source": [
    "class Account:\n",
    "    def __init__(self):  # private variables \n",
    "        self.__account_number = None\n",
    "        self.__balance = 0\n",
    "\n",
    "    def set_account_number(self, account_number):  # methods\n",
    "        self.__account_number = account_number\n",
    "\n",
    "    def get_account_number(self):\n",
    "        return self.__account_number  \n",
    "\n",
    "    def set_balance(self, balance):\n",
    "        self.__balance = balance  \n",
    "\n",
    "    def get_balance(self):\n",
    "        return self.__balance\n",
    "\n",
    "# Create an Account object\n",
    "account = Account()\n",
    "account.set_account_number(\"6303974172\")\n",
    "account.set_balance(5000)\n",
    "\n",
    "# Print the account details\n",
    "print(\"account_number:\", account.get_account_number())\n",
    "print(\"balance:\", account.get_balance())\n"
   ]
  },
  {
   "cell_type": "code",
   "execution_count": 32,
   "id": "636498f6-917d-47aa-b97f-e795936a60e5",
   "metadata": {},
   "outputs": [
    {
     "name": "stdout",
     "output_type": "stream",
     "text": [
      "Deposited: 10000\n",
      "Withdrawn: 5000\n",
      "Current balance: 5000\n"
     ]
    }
   ],
   "source": [
    "#ENCAPSULATION\n",
    "class BankAccount:\n",
    "    def __init__(self, account_holder, balance=0):\n",
    "        self.__account_holder = account_holder\n",
    "        self.__balance = balance\n",
    "\n",
    "    def deposit(self, amount):\n",
    "        if amount > 0:\n",
    "            self.__balance += amount\n",
    "            print(f\"Deposited: {amount}\")\n",
    "        else:\n",
    "            print(\"Invalid deposit amount\")\n",
    "\n",
    "    def withdraw(self, amount):\n",
    "        if amount > 0 and amount <= self.__balance:\n",
    "            self.__balance -= amount\n",
    "            print(f\"Withdrawn: {amount}\")\n",
    "        else:\n",
    "            print(\"Insufficient funds\")\n",
    "\n",
    "    def get_balance(self):\n",
    "        return self.__balance\n",
    "\n",
    "# Create an account object\n",
    "account = BankAccount(\"Sameer\")\n",
    "account.deposit(10000) \n",
    "account.withdraw(5000) \n",
    "print(f\"Current balance: {account.get_balance()}\")\n"
   ]
  },
  {
   "cell_type": "code",
   "execution_count": 45,
   "id": "50504e4d-dc4c-4cce-be89-2d8c666b097b",
   "metadata": {},
   "outputs": [
    {
     "name": "stdout",
     "output_type": "stream",
     "text": [
      "content added succesfully\n",
      " content: confidential_files\n",
      " content: access denied\n"
     ]
    }
   ],
   "source": [
    "#ENCAPSULATION WITH A PASSWORD\n",
    "\n",
    "class Safebox:\n",
    "    def __init__(self):\n",
    "        self.__password=None\n",
    "        self.__content=None\n",
    "        \n",
    "    def set_password(self,password):\n",
    "        self.__password=password\n",
    "        \n",
    "    def set_content(self,password,content):\n",
    "        if password==self.__password:\n",
    "            self.__content=content\n",
    "            print(\"content added succesfully\")\n",
    "        else:\n",
    "            print(\"incorrect password\")\n",
    "            \n",
    "    def  get_content(self,password):\n",
    "        if password==self.__password:\n",
    "             return self.__content\n",
    "        else:\n",
    "            return  \"access denied\"\n",
    "safe=Safebox()\n",
    "safe.set_password(\"my_password\")\n",
    "safe.set_content(\"my_password\",\"confidential_files\")\n",
    "print(f\" content:\",safe.get_content(\"my_password\"))\n",
    "print(f\" content:\",safe.get_content(\"sameer\"))\n",
    "        \n",
    "        \n",
    "        "
   ]
  },
  {
   "cell_type": "code",
   "execution_count": 54,
   "id": "64136768-9779-4f4b-a0fe-fb2cf3d2cded",
   "metadata": {},
   "outputs": [
    {
     "name": "stdout",
     "output_type": "stream",
     "text": [
      " student name:Sameer\n",
      " student age:25\n",
      " updated_age:24\n"
     ]
    }
   ],
   "source": [
    "class Student:\n",
    "    def __init__(self,name,age):\n",
    "        self.name=name\n",
    "        self.__age=age\n",
    "    def get_age(self):#public method accesing private varaible\n",
    "        return self.__age\n",
    "\n",
    "    def set_age(self,age):\n",
    "        if age>0:\n",
    "            self.__age=age\n",
    "        else:\n",
    "            print(f\" age must be positive\")\n",
    "#object            \n",
    "student=Student(\"Sameer\",25)\n",
    "print(f\" student name:{student.name}\")\n",
    "print(f\" student age:{student.get_age()}\")\n",
    "student.set_age(24)# update private attribute via setter method\n",
    "print(f\" updated_age:{student.get_age()}\")#checking updated attribute via getter method"
   ]
  },
  {
   "cell_type": "code",
   "execution_count": 61,
   "id": "fefec64b-6ab7-4419-921a-189b0c547261",
   "metadata": {},
   "outputs": [
    {
     "name": "stdout",
     "output_type": "stream",
     "text": [
      " Book title:Networking\n",
      " Book author :Leo\n",
      " price:500\n",
      "updated_price:800\n"
     ]
    }
   ],
   "source": [
    "class Book:\n",
    "    def __init__(self,title,author,price):\n",
    "        self.title=title\n",
    "        self.author=author\n",
    "        self.__price=price\n",
    "    def get_price(self):\n",
    "        return self.__price\n",
    "    def set_price(self,price):\n",
    "        if price>0:\n",
    "            self.__price=price\n",
    "        else:\n",
    "            print(f\" price must be positive\")\n",
    "book=Book(\"Networking\",\"Leo\",500)\n",
    "print(f\" Book title:{book.title}\")\n",
    "print(f\" Book author :{book.author}\")\n",
    "print(f\" price:{book.get_price()}\")\n",
    "book.set_price(800)\n",
    "print(f\"updated_price:{book.get_price()}\")"
   ]
  },
  {
   "cell_type": "code",
   "execution_count": 16,
   "id": "47dcb189-7bfc-4146-bd5e-f8c42be786d4",
   "metadata": {},
   "outputs": [
    {
     "name": "stdout",
     "output_type": "stream",
     "text": [
      " name:Alice,position:Developer, salary:60000\n",
      " name:Alice,position:Developer, salary:70000\n"
     ]
    }
   ],
   "source": [
    "class Employee:\n",
    "    def __init__(self,name,position,salary):\n",
    "        self.__name=name\n",
    "        self.__position=position\n",
    "        self.__salary=salary\n",
    "        \n",
    "    def set_salary(self,salary):\n",
    "        if salary>0:\n",
    "            self.__salary=salary\n",
    "        else:\n",
    "            print(f\" salary cannot be negative\")\n",
    "    def get_salary(self):\n",
    "        print(f\" name:{self.__name},position:{self.__position}, salary:{self.__salary}\")     \n",
    "     \n",
    "my=Employee(\"Alice\",\"Developer\",60000)\n",
    "my.get_salary()\n",
    "my.set_salary(70000)\n",
    "my.get_salary()"
   ]
  },
  {
   "cell_type": "code",
   "execution_count": null,
   "id": "3f068ab5-6099-4069-b038-238f55703ada",
   "metadata": {},
   "outputs": [],
   "source": []
  }
 ],
 "metadata": {
  "kernelspec": {
   "display_name": "Python 3 (ipykernel)",
   "language": "python",
   "name": "python3"
  },
  "language_info": {
   "codemirror_mode": {
    "name": "ipython",
    "version": 3
   },
   "file_extension": ".py",
   "mimetype": "text/x-python",
   "name": "python",
   "nbconvert_exporter": "python",
   "pygments_lexer": "ipython3",
   "version": "3.13.1"
  }
 },
 "nbformat": 4,
 "nbformat_minor": 5
}
