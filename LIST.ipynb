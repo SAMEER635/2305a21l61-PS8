{
 "cells": [
  {
   "cell_type": "code",
   "execution_count": 1,
   "id": "8e9356ae-663d-4acb-81a0-a64f420833ae",
   "metadata": {},
   "outputs": [
    {
     "name": "stdout",
     "output_type": "stream",
     "text": [
      "[]\n",
      "<class 'list'>\n"
     ]
    }
   ],
   "source": [
    "a=[] #empty list\n",
    "print(a)\n",
    "print(type(a))"
   ]
  },
  {
   "cell_type": "code",
   "execution_count": 2,
   "id": "e76deb1c-ceb5-4144-997d-b03f5c6c2deb",
   "metadata": {},
   "outputs": [
    {
     "name": "stdout",
     "output_type": "stream",
     "text": [
      "[10, 20, 30]\n"
     ]
    }
   ],
   "source": [
    "a=[10,20,30]\n",
    "print(a)#list"
   ]
  },
  {
   "cell_type": "code",
   "execution_count": 2,
   "id": "6bd2bff4-926e-4211-8c7a-b961c838ec9f",
   "metadata": {},
   "outputs": [
    {
     "name": "stdout",
     "output_type": "stream",
     "text": [
      "[1, 2, 3, 4, 5, 6, 7, 8, 9, 10]\n"
     ]
    }
   ],
   "source": [
    "a=list(range(1,11,1))\n",
    "print(a)"
   ]
  },
  {
   "cell_type": "code",
   "execution_count": 4,
   "id": "9e0ae6df-5b53-44e1-8a76-b4d05934b77a",
   "metadata": {},
   "outputs": [
    {
     "name": "stdout",
     "output_type": "stream",
     "text": [
      "[10, 11, 20, 34, 45, 56]\n",
      "<class 'list'>\n"
     ]
    }
   ],
   "source": [
    "#homogeneous (data type is same)\n",
    "a=[10,11,20,34,45,56]\n",
    "print(a)\n",
    "print(type(a))"
   ]
  },
  {
   "cell_type": "code",
   "execution_count": 5,
   "id": "d72ad975-2b08-4e39-ac66-b61d68241c84",
   "metadata": {},
   "outputs": [
    {
     "name": "stdout",
     "output_type": "stream",
     "text": [
      "[10, 12.02, True, 'samm']\n",
      "<class 'list'>\n"
     ]
    }
   ],
   "source": [
    "#heterogeneous (different data type)\n",
    "a=[10,12.02,True,\"samm\"]\n",
    "print(a)\n",
    "print( type(a))"
   ]
  },
  {
   "cell_type": "code",
   "execution_count": 6,
   "id": "a2e56786-f900-471c-9484-75d47c9d0a26",
   "metadata": {},
   "outputs": [
    {
     "name": "stdout",
     "output_type": "stream",
     "text": [
      "[11, 12, 23, 2, 23, 12, 34]\n"
     ]
    }
   ],
   "source": [
    "a=[11,12,23,2,23,12,34]\n",
    "print(a)\n"
   ]
  },
  {
   "cell_type": "code",
   "execution_count": 16,
   "id": "69e4b91d-49f1-4c2d-bf5c-ace3fefe7061",
   "metadata": {},
   "outputs": [
    {
     "name": "stdin",
     "output_type": "stream",
     "text": [
      "enter the no: 20\n"
     ]
    },
    {
     "name": "stdout",
     "output_type": "stream",
     "text": [
      "20\n"
     ]
    }
   ],
   "source": [
    "a=eval(input(\"enter the no:\"))\n",
    "print(a)"
   ]
  },
  {
   "cell_type": "code",
   "execution_count": 8,
   "id": "65ac4a83-27da-4636-ae31-92f5446e05b5",
   "metadata": {},
   "outputs": [
    {
     "name": "stdout",
     "output_type": "stream",
     "text": [
      "['one', 'two', 'three', 2.0]\n"
     ]
    }
   ],
   "source": [
    "#indexing and slicing\n",
    "my_list=['one','two','three',2.0]\n",
    "print(my_list)"
   ]
  },
  {
   "cell_type": "code",
   "execution_count": 9,
   "id": "5d60185d-7a8c-47d6-a196-b19650182a6a",
   "metadata": {},
   "outputs": [
    {
     "data": {
      "text/plain": [
       "'one'"
      ]
     },
     "execution_count": 9,
     "metadata": {},
     "output_type": "execute_result"
    }
   ],
   "source": [
    "my_list=['one','two','three',2.0]\n",
    "my_list[0] #grab element at index zero"
   ]
  },
  {
   "cell_type": "code",
   "execution_count": 10,
   "id": "71b77f48-f10b-43c3-874b-16d082f62917",
   "metadata": {},
   "outputs": [
    {
     "data": {
      "text/plain": [
       "['two', 'three', 2.0]"
      ]
     },
     "execution_count": 10,
     "metadata": {},
     "output_type": "execute_result"
    }
   ],
   "source": [
    "my_list=['one','two','three',2.0]\n",
    "my_list[1:]#grab elements from index 1 to last"
   ]
  },
  {
   "cell_type": "code",
   "execution_count": 11,
   "id": "eeb3169c-41bf-40c7-878a-a125cc243557",
   "metadata": {},
   "outputs": [
    {
     "data": {
      "text/plain": [
       "['one', 'two', 'three']"
      ]
     },
     "execution_count": 11,
     "metadata": {},
     "output_type": "execute_result"
    }
   ],
   "source": [
    "my_list=['one','two','three',2.0]\n",
    "my_list[:3]#grab element up to 3 index"
   ]
  },
  {
   "cell_type": "code",
   "execution_count": 22,
   "id": "c710459f-399a-4849-a0db-e80413c4c04b",
   "metadata": {},
   "outputs": [
    {
     "data": {
      "text/plain": [
       "['one', 'two', 'three', 2.0, 'samm']"
      ]
     },
     "execution_count": 22,
     "metadata": {},
     "output_type": "execute_result"
    }
   ],
   "source": [
    "my_list=['one','two','three',2.0]\n",
    "my_list+[\"samm\"] #adding/concatenating a new element "
   ]
  },
  {
   "cell_type": "code",
   "execution_count": 24,
   "id": "8848afb3-691a-4a73-8cf4-0cb42c22fde6",
   "metadata": {},
   "outputs": [
    {
     "name": "stdout",
     "output_type": "stream",
     "text": [
      "['one', 'two', 'three', 2.0, 'sam']\n"
     ]
    }
   ],
   "source": [
    "my_list=['one','two','three',2.0]\n",
    "my_list.append(\"sam\")#append/add\n",
    "\n",
    "print(my_list)"
   ]
  },
  {
   "cell_type": "code",
   "execution_count": null,
   "id": "0be61461-8d6e-4d5e-8d05-112322bce563",
   "metadata": {},
   "outputs": [],
   "source": [
    "\"\"\"buit in functions\n",
    "len()\n",
    "max()\n",
    "min()\n",
    "append()\n",
    "insert()\n",
    "pop()\n",
    "extend()\n",
    "remove()\n",
    "clear()\n",
    "copy()\n",
    "reverse()\n",
    "count()\n",
    "sort()\n",
    "index()\n",
    "sum()\"\"\"\n"
   ]
  },
  {
   "cell_type": "code",
   "execution_count": 33,
   "id": "36f5b259-2710-4eaa-b179-c231d8a9d037",
   "metadata": {},
   "outputs": [
    {
     "name": "stdout",
     "output_type": "stream",
     "text": [
      "6\n",
      "<class 'list'>\n"
     ]
    }
   ],
   "source": [
    "a=[10,20,30,'soor',78.0,\"alhamdulilah\"]\n",
    "print(len(a))\n",
    "print(type(a))"
   ]
  },
  {
   "cell_type": "code",
   "execution_count": 44,
   "id": "fcf781eb-05cf-4987-ab19-244bdb915ea5",
   "metadata": {},
   "outputs": [
    {
     "name": "stdout",
     "output_type": "stream",
     "text": [
      "40\n"
     ]
    }
   ],
   "source": [
    "a = [10, 20, 30, 40]\n",
    "large = max(a)\n",
    "print(large)  \n"
   ]
  },
  {
   "cell_type": "code",
   "execution_count": 46,
   "id": "b045a1e2-77f8-4cd5-aea5-b10e073ff7f8",
   "metadata": {},
   "outputs": [
    {
     "name": "stdout",
     "output_type": "stream",
     "text": [
      "23\n"
     ]
    }
   ],
   "source": [
    "a=[23,40.0]\n",
    "small=min(a)\n",
    "print(small)"
   ]
  },
  {
   "cell_type": "code",
   "execution_count": 49,
   "id": "15ba443f-35f4-4a5a-955f-5b055dabf8f9",
   "metadata": {},
   "outputs": [
    {
     "name": "stdout",
     "output_type": "stream",
     "text": [
      "['sam', 'jam', 'dam', 'kam', 'tam']\n"
     ]
    }
   ],
   "source": [
    "a=[\"sam\",\"jam\",\"dam\",\"kam\"]\n",
    "b=a.append(\"tam\")\n",
    "print(a)"
   ]
  },
  {
   "cell_type": "code",
   "execution_count": 56,
   "id": "fa162a9e-2325-4877-941c-22792129010e",
   "metadata": {},
   "outputs": [
    {
     "name": "stdout",
     "output_type": "stream",
     "text": [
      "['darshan', 'a', 'pranay', 2, 3]\n"
     ]
    }
   ],
   "source": [
    "\n",
    "a = [\"darshan\",\"pranay\", 2, 3]\n",
    "a.insert(1, 'a')\n",
    "print(a)  \n"
   ]
  },
  {
   "cell_type": "code",
   "execution_count": 59,
   "id": "58713c08-94bf-482c-b66f-b16fae4105ef",
   "metadata": {},
   "outputs": [
    {
     "name": "stdout",
     "output_type": "stream",
     "text": [
      "[2, 3]\n"
     ]
    }
   ],
   "source": [
    "a = [\"sam\", 2, 3]\n",
    "a.remove(\"sam\")\n",
    "print(a)  \n"
   ]
  },
  {
   "cell_type": "code",
   "execution_count": 64,
   "id": "28a2b244-c555-4bf0-ae03-398059dad1bd",
   "metadata": {},
   "outputs": [
    {
     "name": "stdout",
     "output_type": "stream",
     "text": [
      "sa\n"
     ]
    }
   ],
   "source": [
    "a=[23,67,89,\"sa\"]\n",
    "b=a.pop(3)\n",
    "print(b)"
   ]
  },
  {
   "cell_type": "code",
   "execution_count": 68,
   "id": "626746c3-a57e-4f26-a526-b5b727c2ebf0",
   "metadata": {},
   "outputs": [
    {
     "name": "stdout",
     "output_type": "stream",
     "text": [
      "[1, 2, 4, 4, 6]\n"
     ]
    }
   ],
   "source": [
    "a=[1,2,4]\n",
    "b=[4,6]\n",
    "a.extend(b)\n",
    "print(a)\n",
    "      "
   ]
  },
  {
   "cell_type": "code",
   "execution_count": 70,
   "id": "901c7c2f-0613-4156-8702-8105a9ee59cf",
   "metadata": {},
   "outputs": [
    {
     "name": "stdout",
     "output_type": "stream",
     "text": [
      "[]\n"
     ]
    }
   ],
   "source": [
    "a=[12,23,45]\n",
    "a.clear()\n",
    "print(a)"
   ]
  },
  {
   "cell_type": "markdown",
   "id": "bf2d6c57-b7c9-46f7-8d1d-5f8ad07419d3",
   "metadata": {},
   "source": []
  },
  {
   "cell_type": "code",
   "execution_count": 71,
   "id": "37b64134-bc4d-4a18-975d-e5715d341711",
   "metadata": {},
   "outputs": [
    {
     "name": "stdout",
     "output_type": "stream",
     "text": [
      "1\n"
     ]
    }
   ],
   "source": [
    "a=[12,23,34]\n",
    "b=a.index(23)\n",
    "print(b)"
   ]
  },
  {
   "cell_type": "code",
   "execution_count": 83,
   "id": "8017a32f-9522-4174-82d7-048835a0f810",
   "metadata": {},
   "outputs": [
    {
     "name": "stdout",
     "output_type": "stream",
     "text": [
      "3\n"
     ]
    }
   ],
   "source": [
    "a=[12,23,34,23,45,34,45,78,89,90,87,90,90,21,12]\n",
    "b=a.count(90)\n",
    "print(b)"
   ]
  },
  {
   "cell_type": "code",
   "execution_count": 88,
   "id": "f01541cc-b480-4c4a-a5dc-c51cac734e46",
   "metadata": {},
   "outputs": [
    {
     "name": "stdout",
     "output_type": "stream",
     "text": [
      "[12, 23, 34, 45, 56, 67]\n"
     ]
    }
   ],
   "source": [
    "a=[12,23,34,45,56,67]\n",
    "a.sort()\n",
    "print(a)"
   ]
  },
  {
   "cell_type": "code",
   "execution_count": 89,
   "id": "a1a5661d-fba6-42fc-9273-b918277643ea",
   "metadata": {},
   "outputs": [
    {
     "name": "stdout",
     "output_type": "stream",
     "text": [
      "[89, 78, 667, 56, 334, 23, 12]\n"
     ]
    }
   ],
   "source": [
    "a=[12,23,334,56,667,78,89]\n",
    "a.reverse()\n",
    "print(a)"
   ]
  },
  {
   "cell_type": "code",
   "execution_count": 90,
   "id": "155dbe9d-8a6c-4319-8dbf-64989f524ee9",
   "metadata": {},
   "outputs": [
    {
     "name": "stdout",
     "output_type": "stream",
     "text": [
      "135\n"
     ]
    }
   ],
   "source": [
    "a=[12,23,34,5,5,56]\n",
    "print(sum(a))\n"
   ]
  },
  {
   "cell_type": "code",
   "execution_count": null,
   "id": "85830b79-f240-46fe-9263-a808352ae6d2",
   "metadata": {},
   "outputs": [],
   "source": []
  }
 ],
 "metadata": {
  "kernelspec": {
   "display_name": "Python 3 (ipykernel)",
   "language": "python",
   "name": "python3"
  },
  "language_info": {
   "codemirror_mode": {
    "name": "ipython",
    "version": 3
   },
   "file_extension": ".py",
   "mimetype": "text/x-python",
   "name": "python",
   "nbconvert_exporter": "python",
   "pygments_lexer": "ipython3",
   "version": "3.13.1"
  }
 },
 "nbformat": 4,
 "nbformat_minor": 5
}
