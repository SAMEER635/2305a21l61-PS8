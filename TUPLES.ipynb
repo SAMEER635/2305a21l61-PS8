{
 "cells": [
  {
   "cell_type": "code",
   "execution_count": 6,
   "id": "f3fb5d85-8609-4957-bf42-71ae98d32891",
   "metadata": {},
   "outputs": [
    {
     "name": "stdout",
     "output_type": "stream",
     "text": [
      "('apple', 'mango', 'banana')\n",
      "<class 'tuple'>\n"
     ]
    }
   ],
   "source": [
    "fruits=\"apple\",\"mango\",\"banana\"\n",
    "print(fruits)\n",
    "print(type(fruits))\n"
   ]
  },
  {
   "cell_type": "code",
   "execution_count": null,
   "id": "59343ab2-01fb-4993-91a8-803d6b1e09fa",
   "metadata": {},
   "outputs": [],
   "source": [
    "#indexing and slicing\n",
    "'''\n",
    "len()\n",
    "count()\n",
    "index()\n",
    "sort()\n",
    "min()\n",
    "max()\n"
   ]
  },
  {
   "cell_type": "code",
   "execution_count": 7,
   "id": "5290ffa7-2738-4c9c-ae74-61371e880e70",
   "metadata": {},
   "outputs": [
    {
     "name": "stdout",
     "output_type": "stream",
     "text": [
      "5\n"
     ]
    }
   ],
   "source": [
    "a=12,23,34,45,56\n",
    "print(len(a))"
   ]
  },
  {
   "cell_type": "code",
   "execution_count": 9,
   "id": "a98627da-987d-41da-bcf7-3bbe658fc950",
   "metadata": {},
   "outputs": [
    {
     "name": "stdout",
     "output_type": "stream",
     "text": [
      "34\n",
      "<class 'tuple'>\n"
     ]
    }
   ],
   "source": [
    "a=12,23,34,45,56\n",
    "print(a[2])\n",
    "print(type(a))\n"
   ]
  },
  {
   "cell_type": "code",
   "execution_count": 16,
   "id": "5618ee46-e628-4222-a9ea-ae4e7169228b",
   "metadata": {},
   "outputs": [
    {
     "name": "stdout",
     "output_type": "stream",
     "text": [
      "(12, 23, 34)\n"
     ]
    }
   ],
   "source": [
    "a=12,23,34,4,34,45\n",
    "print(a[:3])\n"
   ]
  },
  {
   "cell_type": "code",
   "execution_count": 36,
   "id": "91952935-ae66-494d-b5c9-54243740641c",
   "metadata": {},
   "outputs": [
    {
     "name": "stdout",
     "output_type": "stream",
     "text": [
      "(12, 23)\n"
     ]
    }
   ],
   "source": [
    "a=12,12,23,34,3\n",
    "print(a[1:3])"
   ]
  },
  {
   "cell_type": "code",
   "execution_count": 14,
   "id": "10a9e147-b169-45e8-bc4a-5400f58179bd",
   "metadata": {},
   "outputs": [
    {
     "name": "stdout",
     "output_type": "stream",
     "text": [
      "(23, 34, 4)\n"
     ]
    }
   ],
   "source": [
    "a=12,23,34,4,5,3,6,8\n",
    "print(a[1:4])"
   ]
  },
  {
   "cell_type": "code",
   "execution_count": 26,
   "id": "4ef025a6-7aa2-4933-bbbf-75bed85be18a",
   "metadata": {},
   "outputs": [
    {
     "name": "stdout",
     "output_type": "stream",
     "text": [
      "2\n",
      "<class 'tuple'>\n"
     ]
    }
   ],
   "source": [
    "a=12,12,23,34,45\n",
    "print(a.count(12))\n",
    "print(type(a))\n",
    "\n",
    "      "
   ]
  },
  {
   "cell_type": "code",
   "execution_count": 38,
   "id": "c935d042-aab2-4363-afe6-801ee7edf7c0",
   "metadata": {},
   "outputs": [
    {
     "name": "stdout",
     "output_type": "stream",
     "text": [
      "4\n"
     ]
    }
   ],
   "source": [
    "a=12,23,34,4,45\n",
    "b=a.index(45)\n",
    "print(b)"
   ]
  },
  {
   "cell_type": "code",
   "execution_count": 44,
   "id": "f46e1ae1-a7fb-4e12-9a5a-436807e6ad10",
   "metadata": {},
   "outputs": [
    {
     "name": "stdout",
     "output_type": "stream",
     "text": [
      "90\n"
     ]
    }
   ],
   "source": [
    "a=(56,78,89,90)\n",
    "print(max(a))"
   ]
  },
  {
   "cell_type": "code",
   "execution_count": 45,
   "id": "38fec053-619e-4808-8dd3-c08570b44c27",
   "metadata": {},
   "outputs": [
    {
     "name": "stdout",
     "output_type": "stream",
     "text": [
      "56\n"
     ]
    }
   ],
   "source": [
    "a=56,89,90,90,76\n",
    "print(min(a))"
   ]
  },
  {
   "cell_type": "code",
   "execution_count": null,
   "id": "681cf0b1-b3c4-4db8-af73-e6b767b705b5",
   "metadata": {},
   "outputs": [],
   "source": []
  }
 ],
 "metadata": {
  "kernelspec": {
   "display_name": "Python 3 (ipykernel)",
   "language": "python",
   "name": "python3"
  },
  "language_info": {
   "codemirror_mode": {
    "name": "ipython",
    "version": 3
   },
   "file_extension": ".py",
   "mimetype": "text/x-python",
   "name": "python",
   "nbconvert_exporter": "python",
   "pygments_lexer": "ipython3",
   "version": "3.13.1"
  }
 },
 "nbformat": 4,
 "nbformat_minor": 5
}
