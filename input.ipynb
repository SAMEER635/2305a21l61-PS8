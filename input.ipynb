{
 "cells": [
  {
   "cell_type": "code",
   "execution_count": 2,
   "id": "0e5d74d2-6432-4821-a221-3926ca17eec7",
   "metadata": {},
   "outputs": [
    {
     "name": "stdin",
     "output_type": "stream",
     "text": [
      "enter your name sameer\n"
     ]
    }
   ],
   "source": [
    "x=input('enter your name')"
   ]
  },
  {
   "cell_type": "code",
   "execution_count": 3,
   "id": "68f0dc96-70e6-46f0-8971-db4d42989625",
   "metadata": {},
   "outputs": [
    {
     "name": "stdin",
     "output_type": "stream",
     "text": [
      "enter your college name sru\n"
     ]
    }
   ],
   "source": [
    "cname=input('enter your college name')"
   ]
  },
  {
   "cell_type": "code",
   "execution_count": 5,
   "id": "c868a598-e0c9-4d74-82e9-edfe31c66cb4",
   "metadata": {},
   "outputs": [
    {
     "name": "stdin",
     "output_type": "stream",
     "text": [
      "enter your subject name python\n"
     ]
    }
   ],
   "source": [
    "subname=input('enter your subject name')\n",
    "            "
   ]
  },
  {
   "cell_type": "code",
   "execution_count": 6,
   "id": "c934cc7d-4f3b-4c44-9456-dbe83715192f",
   "metadata": {},
   "outputs": [
    {
     "name": "stdout",
     "output_type": "stream",
     "text": [
      "the value of a is 1\n"
     ]
    }
   ],
   "source": [
    "a=1\n",
    "print('the value of a is',a)"
   ]
  },
  {
   "cell_type": "code",
   "execution_count": null,
   "id": "260bc944-ce2c-49e4-adc3-2f8bd30291e4",
   "metadata": {},
   "outputs": [],
   "source": []
  }
 ],
 "metadata": {
  "kernelspec": {
   "display_name": "Python 3 (ipykernel)",
   "language": "python",
   "name": "python3"
  },
  "language_info": {
   "codemirror_mode": {
    "name": "ipython",
    "version": 3
   },
   "file_extension": ".py",
   "mimetype": "text/x-python",
   "name": "python",
   "nbconvert_exporter": "python",
   "pygments_lexer": "ipython3",
   "version": "3.13.1"
  }
 },
 "nbformat": 4,
 "nbformat_minor": 5
}
