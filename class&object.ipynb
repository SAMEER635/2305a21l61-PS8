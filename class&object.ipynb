{
 "cells": [
  {
   "cell_type": "code",
   "execution_count": 4,
   "id": "2e102489-21bd-4e1c-9429-3b0020363470",
   "metadata": {},
   "outputs": [
    {
     "name": "stdout",
     "output_type": "stream",
     "text": [
      "tata\n",
      "2020\n",
      "yellow\n",
      "True\n",
      "bolero\n",
      "2021\n",
      "black\n",
      "True\n"
     ]
    }
   ],
   "source": [
    "class Car:\n",
    "    def __init__(self, model, year, colour, for_sale):  # Corrected __init__\n",
    "        self.model = model       # Attributes\n",
    "        self.year = year         # Attributes\n",
    "        self.colour = colour     # Attributes\n",
    "        self.for_sale = for_sale # Attributes\n",
    "\n",
    "# Creating an object\n",
    "car1 = Car(\"bolero\", 2021, \"black\", True)\n",
    "car2 = Car(\"tata\",2020,\"yellow\",True)\n",
    "\n",
    "# Accessing attributes\n",
    "print(car2.model)  \n",
    "print(car2.year)    \n",
    "print(car2.colour)  \n",
    "print(car2.for_sale) \n",
    "\n",
    "\n",
    "print(car1.model)  \n",
    "print(car1.year)    \n",
    "print(car1.colour)  \n",
    "print(car1.for_sale) \n",
    "\n",
    "\n",
    "\n",
    "\n"
   ]
  },
  {
   "cell_type": "code",
   "execution_count": 16,
   "id": "64a6b5c1-0ce7-422f-8913-fda786ba446d",
   "metadata": {},
   "outputs": [
    {
     "name": "stdout",
     "output_type": "stream",
     "text": [
      "puppy\n",
      "German_sheperd\n"
     ]
    }
   ],
   "source": [
    "class Dog:\n",
    "    def __init__(self,name,breed):\n",
    "        self.name=name\n",
    "        self.breed=breed\n",
    "\n",
    "    def bark(self):\n",
    "        return f\"{self.name} is barking!\"\n",
    "my_dog=Dog(\"puppy\",\"German_sheperd\") #calling an object\n",
    "print(my_dog.name)\n",
    "print(my_dog.breed)\n",
    "        "
   ]
  },
  {
   "cell_type": "code",
   "execution_count": 17,
   "id": "6f2df57b-edd7-492e-b9fc-bc644980935e",
   "metadata": {},
   "outputs": [
    {
     "name": "stdout",
     "output_type": "stream",
     "text": [
      "puppy\n",
      "German_sheperd\n"
     ]
    }
   ],
   "source": [
    "class Dog:\n",
    "    def __init__(self,name,breed):\n",
    "        self.name=name\n",
    "        self.breed=breed\n",
    "\n",
    "    \n",
    "my_dog=Dog(\"puppy\",\"German_sheperd\") #calling an object\n",
    "print(my_dog.name)\n",
    "print(my_dog.breed)\n",
    "        "
   ]
  },
  {
   "cell_type": "code",
   "execution_count": 31,
   "id": "83d7649c-3e37-4c46-b48c-b3ca9ff68ad2",
   "metadata": {},
   "outputs": [
    {
     "name": "stdout",
     "output_type": "stream",
     "text": [
      "Power_system_protection by J.B.GUPTA,    price:300/-\n",
      "The_Hyderabad   by Hyder_Ali,   price:400/-\n",
      "The city that never that sleeps  by   Trump  ,price:900/-\n"
     ]
    }
   ],
   "source": [
    "class Book:#create class\n",
    "    def __init__(self,Author,Title,Price):#def class\n",
    "        self.Author=Author\n",
    "        self.Title=Title\n",
    "        self.Price=Price\n",
    " #create objects       \n",
    "my_book1=Book(\"J.B.GUPTA\",\"Power_system_protection\",\"300/-\")\n",
    "my_book2=Book(\"Hyder_Ali\",\"The_Hyderabad\",\"400/-\")\n",
    "my_book3=Book(\"Trump\",\"The city that never that sleeps\",\"900/-\")\n",
    "\n",
    "\"\"\"\n",
    "print(my_book.Author)\n",
    "print(my_book.Title)\n",
    "print(my_book.Price)\n",
    "\"\"\"\n",
    "print(f\"{my_book1.Title} by {my_book1.Author},    price:{my_book1.Price}\")\n",
    "print(f\"{my_book2.Title}   by {my_book2.Author},   price:{my_book2.Price}\")\n",
    "print(f\"{my_book3.Title}  by   {my_book3.Author}  ,price:{my_book3.Price}\")\n"
   ]
  },
  {
   "cell_type": "code",
   "execution_count": 71,
   "id": "efabb4dd-835f-46ae-931e-858ff975e495",
   "metadata": {},
   "outputs": [
    {
     "name": "stdout",
     "output_type": "stream",
     "text": [
      "student name:Venky ,marks:890\n",
      "student name:prani ,marks:900\n"
     ]
    }
   ],
   "source": [
    "class Students:#\n",
    "    def __init__(self,name,marks):\n",
    "        self.name=name\n",
    "        self.marks=marks\n",
    "    def display_details(self):#creating methods\n",
    "        print(f\"student name:{self.name} ,marks:{self.marks}\")\n",
    "st1=Students(\"Venky\",890)#create objects\n",
    "st2=Students(\"prani\",900)\n",
    "st1.display_details()# calling objects\n",
    "st2.display_details()\n",
    "    "
   ]
  },
  {
   "cell_type": "code",
   "execution_count": 16,
   "id": "c1df1b0c-8849-4644-b901-41c90e554dc8",
   "metadata": {},
   "outputs": [
    {
     "name": "stdout",
     "output_type": "stream",
     "text": [
      " before the update : DELL inspiron_15,price:58000/-\n",
      " After the update : DELL inspiron_15 ,price:75000\n"
     ]
    }
   ],
   "source": [
    "class Laptop:\n",
    "    def __init__(x,brand,model,price):\n",
    "        x.brand=brand\n",
    "        x.model=model\n",
    "        x.price=price\n",
    "x=Laptop(\"DELL\",\"inspiron_15\",\"58000/-\")\n",
    "print(f\" before the update : {x.brand} {x.model},price:{x.price}\")\n",
    "x.price=75000\n",
    "print(f\" After the update : {x.brand} {x.model} ,price:{x.price}\")\n",
    "\n",
    "\n",
    "    "
   ]
  },
  {
   "cell_type": "code",
   "execution_count": 10,
   "id": "f73c9a6e-70da-436e-8a06-b64cb5816a97",
   "metadata": {},
   "outputs": [
    {
     "name": "stdout",
     "output_type": "stream",
     "text": [
      " area of the rectangle:50\n",
      " area of the rectangle:48\n"
     ]
    }
   ],
   "source": [
    "class Rectangle:#create a class\n",
    "    def __init__(self,length,breadth):#attributes\n",
    "        self.length=length\n",
    "        self.breadth=breadth\n",
    "    def area(self):# to create a method\n",
    "        return self.length*self.breadth\n",
    "rect1=Rectangle(10,5)#creating an object for class\n",
    "rect2=Rectangle(12,4)\n",
    "print(f\" area of the rectangle:{rect1.area()}\")#printing the output\n",
    "print(f\" area of the rectangle:{rect2.area()}\")"
   ]
  },
  {
   "cell_type": "code",
   "execution_count": 87,
   "id": "35281a23-ae21-4a56-8d55-19225130fd5d",
   "metadata": {},
   "outputs": [
    {
     "name": "stdout",
     "output_type": "stream",
     "text": [
      " car_details : tata 2020,made in india\n"
     ]
    }
   ],
   "source": [
    " class Car:\n",
    "    def __init__(self, model, year,make ):  \n",
    "        self.model = model       # Attributes\n",
    "        self.year = year         # Attributes                        \n",
    "        self.make=make\n",
    "# Creating an object\n",
    "car = Car(\"tata\",2020,\"made in india\")\n",
    "\n",
    "print(f\" car_details : {car.model} {car.year},{car.make}\")\n"
   ]
  },
  {
   "cell_type": "code",
   "execution_count": 28,
   "id": "0feba3d5-c0da-4e9f-ad2d-70bf05d6089c",
   "metadata": {},
   "outputs": [
    {
     "name": "stdout",
     "output_type": "stream",
     "text": [
      "student name:venky,age:18\n",
      "student name:prani,age:21\n"
     ]
    }
   ],
   "source": [
    "#define default attribute\n",
    "class Person:\n",
    "    def __init__(self,name,age=18):\n",
    "        self.name=name\n",
    "        self.age=age\n",
    "    def display_details(self):#creating methods\n",
    "        print(f\"student name:{self.name},age:{self.age}\")\n",
    "    \n",
    "st1=Person(\"venky\")#create objects\n",
    "st2=Person(\"prani\",21)\n",
    "\n",
    "st1.display_details() # calling objects\n",
    "st2.display_details()\n",
    "    \n",
    "    "
   ]
  },
  {
   "cell_type": "code",
   "execution_count": 35,
   "id": "256cbe09-fcfd-42fe-a7c2-13098eb95710",
   "metadata": {},
   "outputs": [
    {
     "name": "stdout",
     "output_type": "stream",
     "text": [
      " total objects created :3\n"
     ]
    }
   ],
   "source": [
    "class Counter:\n",
    "    count=0\n",
    "    def __init__(Self):\n",
    "        Counter.count+=1\n",
    "obj1=Counter()\n",
    "obj2=Counter()\n",
    "obj3=Counter()\n",
    "print(f\" total objects created :{Counter.count}\")"
   ]
  },
  {
   "cell_type": "code",
   "execution_count": 130,
   "id": "1eca90ae-52cc-4b30-8c5c-933115a80a85",
   "metadata": {},
   "outputs": [
    {
     "name": "stdout",
     "output_type": "stream",
     "text": [
      "Total persons created:3\n"
     ]
    }
   ],
   "source": [
    "class Person:\n",
    "    count=0\n",
    "    def __init__(self, name, age):\n",
    "        self.name = name\n",
    "        self.age = age\n",
    "        Person.count += 1\n",
    "obt1= Person(\"sam\",30)\n",
    "obt2= Person(\"jam\",25)\n",
    "obt3= Person(\"bam\",20)\n",
    "print(f\"Total persons created:{Person.count}\")\n",
    "\n",
    "        "
   ]
  },
  {
   "cell_type": "code",
   "execution_count": 132,
   "id": "2dd08c3d-666e-428b-9396-26842f7797f4",
   "metadata": {},
   "outputs": [
    {
     "ename": "IndentationError",
     "evalue": "unindent does not match any outer indentation level (<string>, line 13)",
     "output_type": "error",
     "traceback": [
      "\u001b[1;36m  File \u001b[1;32m<string>:13\u001b[1;36m\u001b[0m\n\u001b[1;33m    def withdraw(self, amount):\u001b[0m\n\u001b[1;37m                               ^\u001b[0m\n\u001b[1;31mIndentationError\u001b[0m\u001b[1;31m:\u001b[0m unindent does not match any outer indentation level\n"
     ]
    }
   ],
   "source": [
    "class Bank_account:\n",
    "    \n",
    "    def __init__(self,account_holder,balance):\n",
    "        self.account_holder=account_holder\n",
    "        self.balance=balance\n",
    "    def Deposit(self,amount):\n",
    "        if amount>0:\n",
    "            self.balance+=balance\n",
    "            print(f\"Deposited {amount}.new balance is {self.balance}\")\n",
    "        else:\n",
    "            print(\"deposit amount\")\n",
    "\n",
    "     def withdraw(self, amount):\n",
    "        if amount > self.balance:\n",
    "            print(\"Insufficient funds.\")\n",
    "        elif amount<= 0:\n",
    "            print(\"Withdrawal amount must be positive.\")\n",
    "        else:\n",
    "            self.balance-=amount\n",
    "            print(f\"Withdrew ${amount}. New balance is ${self.balance}.\")\n",
    "\n",
    "     def check_balance(self):\n",
    "        print(f\"Current balance is ${self.balance}.\")\n",
    "\n",
    "         \n",
    "         \n",
    "        \n",
    "        \n",
    "        \n"
   ]
  },
  {
   "cell_type": "code",
   "execution_count": null,
   "id": "27746a3d-c66a-4ed4-8545-6fe1c21cd0fc",
   "metadata": {},
   "outputs": [],
   "source": [
    "\n",
    "class Student:\n",
    "    def __init__(self, name, marks1, marks2, marks3):\n",
    "        self.name = name\n",
    "        self.marks1 = marks1\n",
    "        self.marks2 = marks2\n",
    "        self.marks3 = marks3\n",
    "\n",
    "    def calculate_final_grade(self):\n",
    "        # Calculate the average of the marks\n",
    "        average = (self.marks1 + self.marks2 + self.marks3) / 3\n",
    "\n",
    "        # Determine the grade based on the average\n",
    "        if average >= 90:\n",
    "            grade = 'A'\n",
    "        elif average >= 80:\n",
    "            grade = 'B'\n",
    "        elif average >= 70:\n",
    "            grade = 'C'\n",
    "        elif average >= 60:\n",
    "            grade = 'D'\n",
    "        else:\n",
    "            grade = 'F'\n",
    "        \n",
    "        return average, grade\n",
    "\n",
    "# Input student details and marks\n",
    "name = input(\"Enter the student's name: \")\n",
    "marks1 = float(input(\"Enter marks for Subject 1: \"))\n",
    "marks2 = float(input(\"Enter marks for Subject 2: \"))\n",
    "marks3 = float(input(\"Enter marks for Subject 3: \"))\n",
    "\n",
    "# Create a Student object and calculate the grade\n",
    "student = Student(name, marks1, marks2, marks3)\n",
    "average, grade = student.calculate_final_grade()\n",
    "\n",
    "# Display the result\n",
    "print(f\"\\nStudent Name: {student.name}\")\n",
    "print(f\"Marks: {student.marks1}, {student.marks2}, {student.marks3}\")\n",
    "print(f\"Average: {average:.2f}\")\n",
    "print(f\"Final Grade: {grade}\")\n",
    "\n",
    "    "
   ]
  },
  {
   "cell_type": "code",
   "execution_count": 5,
   "id": "fd17760e-3634-43f7-8266-f354263133e6",
   "metadata": {},
   "outputs": [
    {
     "name": "stdout",
     "output_type": "stream",
     "text": [
      "Distance between 2 points: 4.47213595499958\n"
     ]
    }
   ],
   "source": [
    "import math\n",
    "class Point:\n",
    "    def __init__(self, x, y):\n",
    "        self.x = x\n",
    "        self.y = y\n",
    "\n",
    "    def distance_to(self,other_point):\n",
    "        return math.sqrt((self.x -other_point.x)**2 + (self.y -other_point.y)**2)\n",
    "\n",
    "# Create two points\n",
    "point1 = Point(4, 10)\n",
    "point2 = Point(2, 14)\n",
    "# Calculate the distance between them\n",
    "distance = point1.distance_to(point2)\n",
    "print(f\"Distance between 2 points: {distance}\")\n"
   ]
  },
  {
   "cell_type": "code",
   "execution_count": 157,
   "id": "71756508-6ce2-480e-9bdd-e97e0b979df7",
   "metadata": {},
   "outputs": [
    {
     "name": "stdout",
     "output_type": "stream",
     "text": [
      "circle1 is larger\n"
     ]
    }
   ],
   "source": [
    "class Circle:\n",
    "    def __init__(self,radius):\n",
    "        self.radius=radius\n",
    "circle1=Circle(1500)\n",
    "circle2=Circle(15)\n",
    "if circle1.radius> circle2.radius:\n",
    "    print(\"circle1 is larger\")\n",
    "elif circle2.radius< circle2.radius:\n",
    "    print(\"circle2 is larger\")\n",
    "else:\n",
    "    print(\"both are same size\")\n",
    "\n",
    "\n"
   ]
  },
  {
   "cell_type": "markdown",
   "id": "bead926e-c3f9-4780-938d-89c3fa9519b0",
   "metadata": {},
   "source": [
    "## "
   ]
  },
  {
   "cell_type": "code",
   "execution_count": 161,
   "id": "440517bd-0e6a-4e69-9a8a-b8764cb7d39b",
   "metadata": {},
   "outputs": [
    {
     "name": "stdin",
     "output_type": "stream",
     "text": [
      "enter name: sam\n",
      "enter marks1: 90\n",
      "enter marks2: 89\n",
      "enter marks3: 98\n"
     ]
    },
    {
     "name": "stdout",
     "output_type": "stream",
     "text": [
      "\n",
      "Student Name: sam\n",
      "Marks: 90, 89, 98\n",
      "Average: 211.67\n",
      "Final Grade: d\n"
     ]
    }
   ],
   "source": [
    "class Student:\n",
    "    def __init__(self,name,marks1,marks2,marks3):\n",
    "        self.name=name\n",
    "        self.marks1=marks1\n",
    "        self.marks2=marks2\n",
    "        self.marks3=marks3\n",
    "\n",
    "    def calculate_final_grade(self):\n",
    "        avg=self.marks1+self.marks2+self.marks3/3\n",
    "        if 80>avg>100:\n",
    "            grade='A'\n",
    "        elif 65>avg>80:\n",
    "            grade='B'\n",
    "        elif 50>avg>65:student = Student(name, marks1, marks2, marks3)\n",
    "average, grade = student.calculate_final_grade()\n",
    "\n",
    "# Display the result\n",
    "print(f\"\\nStudent Name: {student.name}\")\n",
    "print(f\"Marks: {student.marks1}, {student.marks2}, {student.marks3}\")\n",
    "print(f\"Average: {average:.2f}\")\n",
    "print(f\"Final Grade: {grade}\")\n",
    "student = Student(name, marks1, marks2, marks3)\n",
    "average, grade = student.calculate_final_grade()\n",
    "\n",
    "# Display the result\n",
    "print(f\"\\nStudent Name: {student.name}\")\n",
    "print(f\"Marks: {student.marks1}, {student.marks2}, {student.marks3}\")\n",
    "print(f\"Average: {average:.2f}\")\n",
    "print(f\"Final Grade: {grade}\")\n",
    "\n",
    "            grade='c'\n",
    "        else:\n",
    "            grade='d'\n",
    "        return avg,grade\n",
    "name=str(input(\"enter name:\"))\n",
    "marks1=int(input(\"enter marks1:\"))\n",
    "marks2=int(input(\"enter marks2:\"))\n",
    "marks3=int(input(\"enter marks3:\"))\n",
    "student = Student(name, marks1, marks2, marks3)\n",
    "average, grade = student.calculate_final_grade()\n",
    "\n",
    "print(f\"\\nStudent Name: {student.name}\")\n",
    "print(f\"Marks: {student.marks1}, {student.marks2}, {student.marks3}\")\n",
    "print(f\"Average: {average:.2f}\")\n",
    "print(f\"Final Grade: {grade}\")\n",
    "\n",
    "        \n",
    "        \n",
    "    "
   ]
  },
  {
   "cell_type": "code",
   "execution_count": null,
   "id": "b1800829-7ef1-4f3c-93a3-308ed7737735",
   "metadata": {},
   "outputs": [],
   "source": []
  }
 ],
 "metadata": {
  "kernelspec": {
   "display_name": "Python 3 (ipykernel)",
   "language": "python",
   "name": "python3"
  },
  "language_info": {
   "codemirror_mode": {
    "name": "ipython",
    "version": 3
   },
   "file_extension": ".py",
   "mimetype": "text/x-python",
   "name": "python",
   "nbconvert_exporter": "python",
   "pygments_lexer": "ipython3",
   "version": "3.13.1"
  }
 },
 "nbformat": 4,
 "nbformat_minor": 5
}
