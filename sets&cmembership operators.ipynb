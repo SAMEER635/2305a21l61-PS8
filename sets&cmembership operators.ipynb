{
 "cells": [
  {
   "cell_type": "code",
   "execution_count": 3,
   "id": "48d5d8b9-444e-4931-b192-bf5177d53e41",
   "metadata": {},
   "outputs": [
    {
     "name": "stdout",
     "output_type": "stream",
     "text": [
      "{56, 12, 45, 23}\n",
      "<class 'set'>\n"
     ]
    }
   ],
   "source": [
    "a={12,23,45,56}\n",
    "print(a)\n",
    "print(type(a))\n"
   ]
  },
  {
   "cell_type": "code",
   "execution_count": null,
   "id": "311f0fb1-f539-45bd-8b2e-aaa42a65aa76",
   "metadata": {},
   "outputs": [],
   "source": [
    "'''\n",
    "add()\n",
    "update()\n",
    "copy()\n",
    "pop()\n",
    "remove()\n",
    "discard()\n",
    "#set important functions"
   ]
  },
  {
   "cell_type": "code",
   "execution_count": 10,
   "id": "0f6dc0d4-ab9b-4564-9a42-9bc958d2e051",
   "metadata": {},
   "outputs": [
    {
     "name": "stdout",
     "output_type": "stream",
     "text": [
      "{10, 20, 30}\n",
      "<class 'set'>\n"
     ]
    }
   ],
   "source": [
    "s={\n",
    "    10,20,30\n",
    "}\n",
    "print(s)\n",
    "print(type(s))#dictionaries in set"
   ]
  },
  {
   "cell_type": "code",
   "execution_count": 12,
   "id": "7df33b58-7f9e-40cb-9c57-ba9e60424b1d",
   "metadata": {},
   "outputs": [
    {
     "name": "stdout",
     "output_type": "stream",
     "text": [
      "{34, 67, 5, 6, 23, 59}\n"
     ]
    }
   ],
   "source": [
    "a=set((23,34,5,6,67))#double parenthesis is also applicable\n",
    "a.add(59)\n",
    "print(a)"
   ]
  },
  {
   "cell_type": "code",
   "execution_count": 15,
   "id": "4e110ace-812f-484e-bf2e-f04b897016a6",
   "metadata": {},
   "outputs": [
    {
     "name": "stdout",
     "output_type": "stream",
     "text": [
      "{2, 3, 4, 5, 6, 7}\n"
     ]
    }
   ],
   "source": [
    "a={1,2,3,4,5,6,7}\n",
    "a.discard(1)#only one can be removed \n",
    "print(a)"
   ]
  },
  {
   "cell_type": "code",
   "execution_count": 1,
   "id": "d842e0ad-d141-4016-b323-d0bbb8aed35a",
   "metadata": {},
   "outputs": [
    {
     "name": "stdout",
     "output_type": "stream",
     "text": [
      "{56, 34, 45}\n"
     ]
    }
   ],
   "source": [
    "a={23,34,45,56,}\n",
    "a.remove(23)\n",
    "print(a)"
   ]
  },
  {
   "cell_type": "code",
   "execution_count": 43,
   "id": "6ab72def-c75a-4091-ad0b-f9c749f3bbc8",
   "metadata": {},
   "outputs": [
    {
     "name": "stdout",
     "output_type": "stream",
     "text": [
      "samm\n"
     ]
    }
   ],
   "source": [
    "a={\"sam\",90.0,87,\"samm\",\"hui\"}\n",
    "b=a.pop()\n",
    "print(b)"
   ]
  },
  {
   "cell_type": "code",
   "execution_count": 39,
   "id": "22e6b057-c848-430f-83e2-4f833122001c",
   "metadata": {},
   "outputs": [
    {
     "name": "stdout",
     "output_type": "stream",
     "text": [
      "{121, 122, 123}\n",
      "{121, 122, 123}\n"
     ]
    }
   ],
   "source": [
    "a={120,121,122,123}\n",
    "a.discard(120)\n",
    "print(a)\n",
    "a.discard(124)\n",
    "print(a)"
   ]
  },
  {
   "cell_type": "code",
   "execution_count": 63,
   "id": "b252d6ef-d28a-4896-b6b4-b4a803694450",
   "metadata": {},
   "outputs": [
    {
     "name": "stdout",
     "output_type": "stream",
     "text": [
      "{34, 5, 12, 13, 90}\n"
     ]
    }
   ],
   "source": [
    "a={12,13,34,5}\n",
    "a.update([34,90])\n",
    "print(a)"
   ]
  },
  {
   "cell_type": "code",
   "execution_count": 50,
   "id": "68de6ce5-2498-4579-8b73-49a827e8b156",
   "metadata": {},
   "outputs": [
    {
     "name": "stdout",
     "output_type": "stream",
     "text": [
      "{'chennai', 'surat', 'mumbai', 'hyd', 'delhi'}\n"
     ]
    }
   ],
   "source": [
    "a={\"hyd\",\"delhi\",\"mumbai\"}\n",
    "b={\"surat\",\"chennai\"}\n",
    "print(a.union(b))\n",
    "\n"
   ]
  },
  {
   "cell_type": "code",
   "execution_count": 54,
   "id": "b74176c8-01e2-44d1-b066-4a485a0495b4",
   "metadata": {},
   "outputs": [
    {
     "name": "stdout",
     "output_type": "stream",
     "text": [
      "{'chennai', 'surat', 'mumbai', 'hyd', 'delhi'}\n",
      "{'chennai', 'surat', 'mumbai', 'hyd', 'delhi'}\n"
     ]
    }
   ],
   "source": [
    "a={\"hyd\",\"delhi\",\"mumbai\"}\n",
    "b={\"surat\",\"chennai\"}\n",
    "print(a|b)\n",
    "print(a.union(b)) #prints all values\n"
   ]
  },
  {
   "cell_type": "code",
   "execution_count": 56,
   "id": "0cfb5b21-09c1-4a3a-82ae-5c70d29ed406",
   "metadata": {},
   "outputs": [
    {
     "name": "stdout",
     "output_type": "stream",
     "text": [
      "{'surat'}\n"
     ]
    }
   ],
   "source": [
    "a={\"hyd\",\"delhi\",\"mumbai\",\"surat\"}\n",
    "b={\"surat\",\"chennai\"}\n",
    "print(a.intersection(b))#prints only common value\n"
   ]
  },
  {
   "cell_type": "code",
   "execution_count": 57,
   "id": "1228e4f0-957b-46f4-8f0f-a475ba754edf",
   "metadata": {},
   "outputs": [
    {
     "name": "stdout",
     "output_type": "stream",
     "text": [
      "{'e', 'q'}\n"
     ]
    }
   ],
   "source": [
    "a={'w','e','r','q'}\n",
    "b={'w','r','s'}\n",
    "print(a.difference(b))#prints only difference of a "
   ]
  },
  {
   "cell_type": "code",
   "execution_count": 62,
   "id": "06c5113f-f498-47bd-9034-a29efb9ac1f2",
   "metadata": {},
   "outputs": [
    {
     "name": "stdout",
     "output_type": "stream",
     "text": [
      "{0.03, 0.08, 0.01, 0.04}\n",
      "{0.03, 0.08, 0.01, 0.04}\n"
     ]
    }
   ],
   "source": [
    "a={0.01,0.02,0.009,0.08}\n",
    "b={0.02,0.03,0.04,0.009}\n",
    "print(a.symmetric_difference(b))#doesnt print the common value\n",
    "print(a^b)"
   ]
  },
  {
   "cell_type": "code",
   "execution_count": 65,
   "id": "a4e5b4a5-004b-4d90-9157-35ed8e058469",
   "metadata": {},
   "outputs": [
    {
     "name": "stdout",
     "output_type": "stream",
     "text": [
      "{0, 89, 98, 54}\n"
     ]
    }
   ],
   "source": [
    "a={89,0,98,54}\n",
    "b=a.copy()\n",
    "print(b)"
   ]
  },
  {
   "cell_type": "code",
   "execution_count": 66,
   "id": "6a90b44b-4938-4567-a1f0-189eeaf9f3fc",
   "metadata": {},
   "outputs": [
    {
     "name": "stdout",
     "output_type": "stream",
     "text": [
      "set()\n"
     ]
    }
   ],
   "source": [
    "a={True,False}\n",
    "a.clear()\n",
    "print(a)"
   ]
  },
  {
   "cell_type": "code",
   "execution_count": 69,
   "id": "f9d58dce-0e5f-4e94-89bc-745c6b99f502",
   "metadata": {},
   "outputs": [
    {
     "name": "stdout",
     "output_type": "stream",
     "text": [
      "sam\n",
      "True\n",
      "True\n",
      "False\n"
     ]
    }
   ],
   "source": [
    "#membeship operators\n",
    "a=(\"sam\")\n",
    "print(a)\n",
    "print(\"a\" in a)\n",
    "print(\"m\" in a )\n",
    "print(\"m\" not in a)"
   ]
  },
  {
   "cell_type": "code",
   "execution_count": 78,
   "id": "8ebfdfe7-739c-44ba-b671-1cd7bec848af",
   "metadata": {},
   "outputs": [
    {
     "name": "stdin",
     "output_type": "stream",
     "text": [
      " please enter any  (set/list/tuple): [12,23,4,56,]\n"
     ]
    },
    {
     "name": "stdout",
     "output_type": "stream",
     "text": [
      "{56, 12, 4, 23}\n",
      "[12, 23, 4, 56]\n",
      "(12, 23, 4, 56)\n"
     ]
    }
   ],
   "source": [
    "#wap to eliminate duplicates in the present list\n",
    "a=eval(input(\" please enter any  (set/list/tuple):\"))\n",
    "b=set(a)\n",
    "c=list(a)\n",
    "d=tuple(a)\n",
    "print(b)\n",
    "print(c)\n",
    "print(d)\n"
   ]
  },
  {
   "cell_type": "code",
   "execution_count": null,
   "id": "b6e4564b-09c2-4524-b284-5fda3f6591d6",
   "metadata": {},
   "outputs": [],
   "source": []
  }
 ],
 "metadata": {
  "kernelspec": {
   "display_name": "Python 3 (ipykernel)",
   "language": "python",
   "name": "python3"
  },
  "language_info": {
   "codemirror_mode": {
    "name": "ipython",
    "version": 3
   },
   "file_extension": ".py",
   "mimetype": "text/x-python",
   "name": "python",
   "nbconvert_exporter": "python",
   "pygments_lexer": "ipython3",
   "version": "3.13.1"
  }
 },
 "nbformat": 4,
 "nbformat_minor": 5
}
