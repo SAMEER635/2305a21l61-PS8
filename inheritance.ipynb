{
 "cells": [
  {
   "cell_type": "code",
   "execution_count": 7,
   "id": "463f87d8-2883-4c3a-a668-b8867bfaa03e",
   "metadata": {},
   "outputs": [
    {
     "name": "stdout",
     "output_type": "stream",
     "text": [
      "hellow from parent\n"
     ]
    }
   ],
   "source": [
    "#SINGLE-INHERITENCE\n",
    "class Parent:\n",
    "    def greet(self):\n",
    "        print(\"hellow from parent\")\n",
    "class Child(Parent):\n",
    "    pass\n",
    "    \n",
    "obj=Child()\n",
    "obj.greet()\n",
    "        "
   ]
  },
  {
   "cell_type": "code",
   "execution_count": 12,
   "id": "05e1a8b2-6854-4a2b-8dcd-5656ab353b5c",
   "metadata": {},
   "outputs": [
    {
     "name": "stdout",
     "output_type": "stream",
     "text": [
      "helloe from parent1\n",
      "hellow from parent2\n"
     ]
    }
   ],
   "source": [
    "#MUTLIPLE IN-HERITENCE\n",
    "class Parent1:\n",
    "    def greet1(self):\n",
    "        print(\"helloe from parent1\")\n",
    "class Parent2:\n",
    "    def greet2(Self):\n",
    "        print(\"hellow from parent2\")\n",
    "class Child(Parent1,Parent2): \n",
    "    pass\n",
    "obj=Child()\n",
    "obj.greet1()\n",
    "obj.greet2()\n",
    "    "
   ]
  },
  {
   "cell_type": "code",
   "execution_count": 15,
   "id": "dcdb8d76-9a74-4d9d-a180-9410155b7a4c",
   "metadata": {},
   "outputs": [
    {
     "name": "stdout",
     "output_type": "stream",
     "text": [
      "hellow from grandparent\n"
     ]
    }
   ],
   "source": [
    "#multi-level \n",
    "class Grandparent:\n",
    "    def greet(Self):\n",
    "        print(\"hellow from grandparent\")\n",
    "class Parent(Grandparent):\n",
    "    pass\n",
    "class Child (Parent):\n",
    "    pass\n",
    "obj=Child()\n",
    "obj.greet()"
   ]
  },
  {
   "cell_type": "code",
   "execution_count": 18,
   "id": "65647ade-4b93-4549-b575-d2ac9176a5d5",
   "metadata": {},
   "outputs": [
    {
     "name": "stdout",
     "output_type": "stream",
     "text": [
      "hellow from parent\n",
      "hellow from parent\n"
     ]
    }
   ],
   "source": [
    "#hirercial\n",
    "class Parent:\n",
    "    def greet(self):\n",
    "        print(\"hellow from parent\")\n",
    "class Child1(Parent):\n",
    "    pass\n",
    "class Child2(Parent):\n",
    "    pass\n",
    "obj=Child1()\n",
    "obj=Child2()\n",
    "obj.greet()\n",
    "obj.greet()"
   ]
  },
  {
   "cell_type": "code",
   "execution_count": 20,
   "id": "74568a80-7dee-4add-875f-e83bdfd4bbdd",
   "metadata": {},
   "outputs": [
    {
     "name": "stdout",
     "output_type": "stream",
     "text": [
      "hellow from A\n"
     ]
    }
   ],
   "source": [
    "#hybrid inheritance\n",
    "class A:\n",
    "    def greet(self):\n",
    "        print(\"hellow from A\")\n",
    "class B(A):\n",
    "    pass\n",
    "class C(A):\n",
    "    pass\n",
    "class D(A):\n",
    "    pass\n",
    "obj=D()\n",
    "obj.greet()"
   ]
  },
  {
   "cell_type": "code",
   "execution_count": 24,
   "id": "ab7846f5-caee-4f31-a298-b16030670a85",
   "metadata": {},
   "outputs": [
    {
     "name": "stdout",
     "output_type": "stream",
     "text": [
      "hellow from child\n",
      "hellow from parent\n"
     ]
    }
   ],
   "source": [
    "#super function\n",
    "class Parent: \n",
    "    def greet(self):\n",
    "        print(\"hellow from parent\")\n",
    "class Child(Parent):\n",
    "    def greet(Self):\n",
    "        print(\"hellow from child\")\n",
    "        super().greet()\n",
    "obj=Child()\n",
    "obj.greet()"
   ]
  },
  {
   "cell_type": "code",
   "execution_count": 32,
   "id": "acdbb1af-49c0-4805-ae06-fb02b3371ee8",
   "metadata": {},
   "outputs": [
    {
     "name": "stdout",
     "output_type": "stream",
     "text": [
      "parent constructor\n"
     ]
    }
   ],
   "source": [
    "#class in a heritence\n",
    "class Parent:\n",
    "    def __init__(self):\n",
    "        print(\"parent constructor\")\n",
    "class Child(Parent):\n",
    "    def __inti__(self):\n",
    "        super().__init__()#calls parent constructor,#from parent to child\n",
    "        print(\"child constructor\")\n",
    "obj=Child()"
   ]
  },
  {
   "cell_type": "code",
   "execution_count": 33,
   "id": "4808f394-32d1-432a-8148-2657de3e5a50",
   "metadata": {},
   "outputs": [
    {
     "name": "stdout",
     "output_type": "stream",
     "text": [
      "[<class '__main__.D'>, <class '__main__.B'>, <class '__main__.C'>, <class '__main__.A'>, <class 'object'>]\n"
     ]
    }
   ],
   "source": [
    "#method resolution order (MRO)\n",
    "class A:\n",
    "    pass\n",
    "class B(A):\n",
    "    pass\n",
    "class C(A):\n",
    "    pass\n",
    "class D(B,C):\n",
    "    pass\n",
    "print(D.mro())\n",
    "    "
   ]
  },
  {
   "cell_type": "code",
   "execution_count": 36,
   "id": "9bd7e3af-fa1d-4775-a5ef-d39cc136d428",
   "metadata": {},
   "outputs": [
    {
     "name": "stdin",
     "output_type": "stream",
     "text": [
      " 12\n",
      " 12\n"
     ]
    },
    {
     "name": "stdout",
     "output_type": "stream",
     "text": [
      " the area of the rectangle is :144.0\n"
     ]
    }
   ],
   "source": [
    "#shape inheritance\n",
    "class Shape:\n",
    "    def __init__(self,shape_type):\n",
    "        self.shape_type=shape_type\n",
    "    def get_area(self):\n",
    "        pass\n",
    "class Rectangle(Shape):\n",
    "    def __init__(self,length,breadth):\n",
    "        super().__init__(\"Rectangle\")\n",
    "        self.length=length\n",
    "        self.breadth=breadth\n",
    "    def get_area(self):\n",
    "        return self.length*self.breadth\n",
    "length=float(input())\n",
    "breadth=float(input())\n",
    "rectangle=Rectangle(length,breadth)\n",
    "print(f\" the area of the rectangle is :{rectangle.get_area()}\")\n",
    "    "
   ]
  },
  {
   "cell_type": "code",
   "execution_count": 42,
   "id": "18c683bf-66d0-4d86-afcc-ef80a8f9e53a",
   "metadata": {},
   "outputs": [
    {
     "name": "stdin",
     "output_type": "stream",
     "text": [
      " sameer\n",
      " 12\n",
      " 120\n",
      " 12\n"
     ]
    },
    {
     "ename": "AttributeError",
     "evalue": "'Manager' object has no attribute '_Manager__bonus'",
     "output_type": "error",
     "traceback": [
      "\u001b[1;31m---------------------------------------------------------------------------\u001b[0m",
      "\u001b[1;31mAttributeError\u001b[0m                            Traceback (most recent call last)",
      "Cell \u001b[1;32mIn[42], line 22\u001b[0m\n\u001b[0;32m     20\u001b[0m bonus\u001b[38;5;241m=\u001b[39m\u001b[38;5;28mfloat\u001b[39m(\u001b[38;5;28minput\u001b[39m())\n\u001b[0;32m     21\u001b[0m manager\u001b[38;5;241m=\u001b[39mManager(name,age,salary,bonus)\n\u001b[1;32m---> 22\u001b[0m \u001b[38;5;28mprint\u001b[39m(\u001b[38;5;124mf\u001b[39m\u001b[38;5;124m\"\u001b[39m\u001b[38;5;124mEmployee Name:\u001b[39m\u001b[38;5;132;01m{\u001b[39;00mmanager\u001b[38;5;241m.\u001b[39mget_name()\u001b[38;5;132;01m}\u001b[39;00m\u001b[38;5;124m,Age:\u001b[39m\u001b[38;5;132;01m{\u001b[39;00mmanager\u001b[38;5;241m.\u001b[39mget_age()\u001b[38;5;132;01m}\u001b[39;00m\u001b[38;5;124m,salary:\u001b[39m\u001b[38;5;132;01m{\u001b[39;00mmanager\u001b[38;5;241m.\u001b[39mget_salary\u001b[38;5;132;01m}\u001b[39;00m\u001b[38;5;124m,bonus:\u001b[39m\u001b[38;5;132;01m{\u001b[39;00m\u001b[43mmanager\u001b[49m\u001b[38;5;241;43m.\u001b[39;49m\u001b[43mget_bonus\u001b[49m\u001b[43m(\u001b[49m\u001b[43m)\u001b[49m\u001b[38;5;132;01m}\u001b[39;00m\u001b[38;5;124m\"\u001b[39m)\n",
      "Cell \u001b[1;32mIn[42], line 16\u001b[0m, in \u001b[0;36mManager.get_bonus\u001b[1;34m(self)\u001b[0m\n\u001b[0;32m     15\u001b[0m \u001b[38;5;28;01mdef\u001b[39;00m \u001b[38;5;21mget_bonus\u001b[39m(\u001b[38;5;28mself\u001b[39m):\n\u001b[1;32m---> 16\u001b[0m     \u001b[38;5;28;01mreturn\u001b[39;00m \u001b[38;5;28;43mself\u001b[39;49m\u001b[38;5;241;43m.\u001b[39;49m\u001b[43m__bonus\u001b[49m\n",
      "\u001b[1;31mAttributeError\u001b[0m: 'Manager' object has no attribute '_Manager__bonus'"
     ]
    }
   ],
   "source": [
    "class Employee:\n",
    "    def __init__(self,name,age,salary):\n",
    "        self.__name=name\n",
    "        self.__age=age\n",
    "        self.__salary=salary\n",
    "    def get_salary(self):\n",
    "        return self.__salary\n",
    "    def get_name(self):\n",
    "        return self.__name\n",
    "    def get_age(self):\n",
    "        return self.__age\n",
    "class Manager(Employee):\n",
    "    def __init__(self,name,age,salary,bonus):\n",
    "        super().__init__(name,age,salary)\n",
    "    def get_bonus(self):\n",
    "        return self.__bonus\n",
    "name=input()\n",
    "age=int(input())\n",
    "salary=float(input())\n",
    "bonus=float(input())\n",
    "manager=Manager(name,age,salary,bonus)\n",
    "print(f\"Employee Name:{manager.get_name()},Age:{manager.get_age()},salary:{manager.get_salary},bonus:{manager.get_bonus()}\")"
   ]
  },
  {
   "cell_type": "code",
   "execution_count": 43,
   "id": "23b166e6-67c6-44fe-a909-ba1747e4d98b",
   "metadata": {},
   "outputs": [
    {
     "name": "stdin",
     "output_type": "stream",
     "text": [
      "Enter manager's name:  sameer\n",
      "Enter manager's age:  23\n",
      "Enter manager's salary:  23000\n",
      "Enter manager's bonus:  2100\n"
     ]
    },
    {
     "name": "stdout",
     "output_type": "stream",
     "text": [
      "Employee Name: sameer, Age: 23, Salary: 23000.0, Bonus: 2100.0\n"
     ]
    }
   ],
   "source": [
    "class Employee:\n",
    "    def __init__(self, name, age, salary):\n",
    "        self.__name = name\n",
    "        self.__age = age\n",
    "        self.__salary = salary\n",
    "\n",
    "    def get_salary(self):\n",
    "        return self.__salary\n",
    "\n",
    "    def get_name(self):\n",
    "        return self.__name\n",
    "\n",
    "    def get_age(self):\n",
    "        return self.__age\n",
    "\n",
    "class Manager(Employee):\n",
    "    def __init__(self, name, age, salary, bonus):\n",
    "        super().__init__(name, age, salary)\n",
    "        self.__bonus = bonus  # Assign bonus to an instance variable\n",
    "\n",
    "    def get_bonus(self):\n",
    "        return self.__bonus\n",
    "name = input(\"Enter manager's name: \")\n",
    "age = int(input(\"Enter manager's age: \"))\n",
    "salary = float(input(\"Enter manager's salary: \"))\n",
    "bonus = float(input(\"Enter manager's bonus: \"))\n",
    "manager = Manager(name, age, salary, bonus)\n",
    "print(f\"Employee Name: {manager.get_name()}, Age: {manager.get_age()}, Salary: {manager.get_salary()}, Bonus: {manager.get_bonus()}\")\n"
   ]
  },
  {
   "cell_type": "code",
   "execution_count": null,
   "id": "53558cec-b828-45f4-836c-d7df56278ca4",
   "metadata": {},
   "outputs": [],
   "source": []
  }
 ],
 "metadata": {
  "kernelspec": {
   "display_name": "Python 3 (ipykernel)",
   "language": "python",
   "name": "python3"
  },
  "language_info": {
   "codemirror_mode": {
    "name": "ipython",
    "version": 3
   },
   "file_extension": ".py",
   "mimetype": "text/x-python",
   "name": "python",
   "nbconvert_exporter": "python",
   "pygments_lexer": "ipython3",
   "version": "3.13.1"
  }
 },
 "nbformat": 4,
 "nbformat_minor": 5
}
