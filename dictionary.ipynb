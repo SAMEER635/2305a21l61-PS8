{
 "cells": [
  {
   "cell_type": "code",
   "execution_count": null,
   "id": "e8ddd08d-e75e-45ec-8c8c-d691af3abf7c",
   "metadata": {},
   "outputs": [],
   "source": []
  },
  {
   "cell_type": "code",
   "execution_count": null,
   "id": "e8435c16-85c4-45f4-8ddc-1ac902753333",
   "metadata": {},
   "outputs": [],
   "source": [
    "'''\n",
    "dict()\n",
    "len()\n",
    "pop()\n",
    "popitem()\n",
    "get()\n",
    "clear()\n",
    "update()\n",
    "clear()\n",
    "upper()\n",
    "copy()\n",
    "set()\n",
    "setdefault()\n",
    "length()\n",
    "\n",
    "\n"
   ]
  },
  {
   "cell_type": "code",
   "execution_count": null,
   "id": "bf428556-07cd-4630-b5d4-4d4018dcda07",
   "metadata": {},
   "outputs": [],
   "source": [
    "my_dict = {\"name\": \"samm\", \"age\": 25}\n",
    "print(my_dict[\"name\"])  \n",
    "my\n",
    "\n",
    "\n"
   ]
  },
  {
   "cell_type": "code",
   "execution_count": null,
   "id": "331cbc75-648a-443e-bc02-58dc9b71a285",
   "metadata": {},
   "outputs": [],
   "source": [
    "my_dict={\""
   ]
  },
  {
   "cell_type": "code",
   "execution_count": null,
   "id": "2dd245ec-0938-41a6-b97f-817efd6e02a5",
   "metadata": {},
   "outputs": [],
   "source": []
  }
 ],
 "metadata": {
  "kernelspec": {
   "display_name": "Python 3 (ipykernel)",
   "language": "python",
   "name": "python3"
  },
  "language_info": {
   "codemirror_mode": {
    "name": "ipython",
    "version": 3
   },
   "file_extension": ".py",
   "mimetype": "text/x-python",
   "name": "python",
   "nbconvert_exporter": "python",
   "pygments_lexer": "ipython3",
   "version": "3.13.1"
  }
 },
 "nbformat": 4,
 "nbformat_minor": 5
}
