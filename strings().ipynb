{
 "cells": [
  {
   "cell_type": "code",
   "execution_count": 7,
   "id": "4d241cf9-5948-4823-b321-1119fd788ae5",
   "metadata": {},
   "outputs": [],
   "source": [
    "a='hyderabad'\n",
    "b=\"hyderabad\"\n",
    "c=\"\"\"hyderabad\"\"\""
   ]
  },
  {
   "cell_type": "code",
   "execution_count": 6,
   "id": "5d2fb873-f1f4-4a9f-863d-30a150818ef5",
   "metadata": {},
   "outputs": [
    {
     "name": "stdout",
     "output_type": "stream",
     "text": [
      "<class 'str'>\n",
      "<class 'str'>\n"
     ]
    }
   ],
   "source": [
    "x='a'\n",
    "print(type(x))\n",
    "x=\"a\"\n",
    "print(type(x))"
   ]
  },
  {
   "cell_type": "code",
   "execution_count": 8,
   "id": "582af1b9-3c8a-45af-9a5f-73bda8ffe962",
   "metadata": {
    "scrolled": true
   },
   "outputs": [
    {
     "name": "stdout",
     "output_type": "stream",
     "text": [
      "python is a high-level programmming language\n"
     ]
    }
   ],
   "source": [
    "x=\"python is a high-level programmming language\"\n",
    "print(x)"
   ]
  },
  {
   "cell_type": "code",
   "execution_count": null,
   "id": "3629f0c1-b58a-4eee-a170-1a5b688bc05a",
   "metadata": {},
   "outputs": [],
   "source": [
    "x='python 'is a high-level' programmming language'\n",
    "print(x)# single quote inside single quote"
   ]
  },
  {
   "cell_type": "code",
   "execution_count": 10,
   "id": "3f1c603e-0e3e-47fc-b5c3-e17893f6bb66",
   "metadata": {},
   "outputs": [
    {
     "name": "stdout",
     "output_type": "stream",
     "text": [
      "python 'is a high-level' programmming language\n"
     ]
    }
   ],
   "source": [
    "x=\"python 'is a high-level' programmming language\"\n",
    "print(x)  #single quote inside double quote"
   ]
  },
  {
   "cell_type": "code",
   "execution_count": 20,
   "id": "74e5455b-3ff7-4c04-b811-4774301a666a",
   "metadata": {},
   "outputs": [
    {
     "name": "stdout",
     "output_type": "stream",
     "text": [
      " hyderabad is 'metropolitan city' \n"
     ]
    }
   ],
   "source": [
    "x=\"\"\" hyderabad is 'metropolitan city' \"\"\"\n",
    "print(x)#single quote inside triple-double quotes"
   ]
  },
  {
   "cell_type": "code",
   "execution_count": 2,
   "id": "c30817bc-eca9-4743-ba47-9f972943efa6",
   "metadata": {},
   "outputs": [
    {
     "name": "stdout",
     "output_type": "stream",
     "text": [
      "hyderabad is a  \"metropolitan\" city\n"
     ]
    }
   ],
   "source": [
    "x='hyderabad is a  \"metropolitan\" city'\n",
    "print(x)#double quote inside single quote"
   ]
  },
  {
   "cell_type": "code",
   "execution_count": 160,
   "id": "67fc4a66-181a-439f-bf36-3cbbe6fa3f4c",
   "metadata": {},
   "outputs": [
    {
     "name": "stdout",
     "output_type": "stream",
     "text": [
      "the\"\"\"python notes\"prepared \"\"\"by\n"
     ]
    }
   ],
   "source": [
    "a='the\"\"\"python notes\"prepared \"\"\"by'\n",
    "print(a)#invalid condition #3 in 1 "
   ]
  },
  {
   "cell_type": "code",
   "execution_count": 161,
   "id": "b667d0ef-950b-4531-a0e2-71b10b7db6c6",
   "metadata": {},
   "outputs": [
    {
     "name": "stdout",
     "output_type": "stream",
     "text": [
      "hyderabad\"\"\"is metropolitan\"\"\"\\ city\n"
     ]
    },
    {
     "name": "stderr",
     "output_type": "stream",
     "text": [
      "<>:1: SyntaxWarning: invalid escape sequence '\\ '\n",
      "<>:1: SyntaxWarning: invalid escape sequence '\\ '\n",
      "C:\\Users\\SHAIK SAMEER\\AppData\\Local\\Temp\\ipykernel_21376\\3649438343.py:1: SyntaxWarning: invalid escape sequence '\\ '\n",
      "  x='hyderabad\\\"\"\"is metropolitan\"\"\"\\ city'\n"
     ]
    }
   ],
   "source": [
    "x='hyderabad\\\"\"\"is metropolitan\"\"\"\\ city'\n",
    "print(x) #3 in 1"
   ]
  },
  {
   "cell_type": "code",
   "execution_count": 3,
   "id": "13f46996-dcba-4989-a8df-f52edd931466",
   "metadata": {},
   "outputs": [
    {
     "ename": "SyntaxError",
     "evalue": "unexpected character after line continuation character (471940461.py, line 1)",
     "output_type": "error",
     "traceback": [
      "\u001b[1;36m  Cell \u001b[1;32mIn[3], line 1\u001b[1;36m\u001b[0m\n\u001b[1;33m    x=\"hyderabad\\\"\"\"is metropolitan\"\"\"\\ city\"\u001b[0m\n\u001b[1;37m                                       ^\u001b[0m\n\u001b[1;31mSyntaxError\u001b[0m\u001b[1;31m:\u001b[0m unexpected character after line continuation character\n"
     ]
    }
   ],
   "source": [
    "x=\"hyderabad\\\"\"\"is metropolitan\"\"\"\\ city\"\n",
    "print(x)  #3 in 2"
   ]
  },
  {
   "cell_type": "code",
   "execution_count": 3,
   "id": "6f8e461d-c052-4ef2-a0fc-d54fb945a5b7",
   "metadata": {},
   "outputs": [
    {
     "ename": "SyntaxError",
     "evalue": "unexpected character after line continuation character (471940461.py, line 1)",
     "output_type": "error",
     "traceback": [
      "\u001b[1;36m  Cell \u001b[1;32mIn[3], line 1\u001b[1;36m\u001b[0m\n\u001b[1;33m    x=\"hyderabad\\\"\"\"is metropolitan\"\"\"\\ city\"\u001b[0m\n\u001b[1;37m                                       ^\u001b[0m\n\u001b[1;31mSyntaxError\u001b[0m\u001b[1;31m:\u001b[0m unexpected character after line continuation character\n"
     ]
    }
   ],
   "source": [
    "x=\"\"\"hyderabad\\\"\"\"is metropolitan\"\"\"\\ city\"\"\"\n",
    "print(x)  #3 in 2 #invalid"
   ]
  },
  {
   "cell_type": "code",
   "execution_count": 38,
   "id": "8344593e-9ea3-4879-bfea-3603be105698",
   "metadata": {},
   "outputs": [
    {
     "name": "stdout",
     "output_type": "stream",
     "text": [
      "the\"python\"y\n"
     ]
    }
   ],
   "source": [
    "x='the\\\"python\"\\by'\n",
    "print(x)  #double quotes inside single quote"
   ]
  },
  {
   "cell_type": "code",
   "execution_count": 32,
   "id": "a5753f33-7fe4-4243-8cb4-10df11b48f64",
   "metadata": {},
   "outputs": [
    {
     "name": "stdout",
     "output_type": "stream",
     "text": [
      "s\n",
      "a\n",
      "r\n"
     ]
    }
   ],
   "source": [
    "#acessing characters\n",
    "s=\"sameer\"\n",
    "print(s[0]) #POSITIVE index (starts from0)\n",
    "print(s[1])\n",
    "print(s[-1])#NEGATIVE index (starts from -1)\n"
   ]
  },
  {
   "cell_type": "code",
   "execution_count": null,
   "id": "2d99b026-bb8b-4b5d-988c-5f193a6170e3",
   "metadata": {},
   "outputs": [],
   "source": [
    "#syntax\n",
    "[start:stop:step]"
   ]
  },
  {
   "cell_type": "code",
   "execution_count": 7,
   "id": "10ff5df8-f6bc-4761-97cc-26de1914afc3",
   "metadata": {},
   "outputs": [
    {
     "name": "stdout",
     "output_type": "stream",
     "text": [
      "sruniversity EEE batch third year\n",
      "uies\n",
      "srun\n",
      "runiv\n",
      "sis  ch r\n",
      "\n",
      "r\n",
      "sruniversity EEE batch third year\n",
      " batch\n",
      "batch\n"
     ]
    }
   ],
   "source": [
    "a='sruniversity EEE batch third year'\n",
    "print(a)\n",
    "print(a[2:10:2]) #syntax [start:stop:step] #begining is with given startindex but ending up b4 given stop index\n",
    "print(a[0:4])    #up to third character \n",
    "print(a[1:6])\n",
    "print(a[0::4]) #every fourth char of the string\n",
    "print(a[-10:-8:-3])#invalid\n",
    "print(a[-1:])#whatever the nature of starting index is (-1 or 1),it will start from that particular digit only\n",
    "print(a[0:])#in +ve case of index even though the last index isnt mentioned its to enough to get printed the whole string\n",
    "print(a[16:-11:1])\n",
    "print(a[-16:-11:1])\n"
   ]
  },
  {
   "cell_type": "code",
   "execution_count": 73,
   "id": "cad78db4-5e4f-4039-9a64-2ffd2f8822c2",
   "metadata": {},
   "outputs": [
    {
     "name": "stdout",
     "output_type": "stream",
     "text": [
      "RamZan\n"
     ]
    }
   ],
   "source": [
    "a=\"Ram\"\n",
    "b=\"Zan\"\n",
    "print(a+b)#addition of strings\n"
   ]
  },
  {
   "cell_type": "code",
   "execution_count": 83,
   "id": "e203dcd4-56f4-468c-8e16-63d03938a35e",
   "metadata": {},
   "outputs": [
    {
     "name": "stdout",
     "output_type": "stream",
     "text": [
      "kazipet hanamkonda warangal\n",
      "kazipethanamkondawarangal\n",
      "abc\n",
      "kazipetbwarangal\n",
      "ahanamkondawarangal\n",
      "kazipethanamkondawarangal\n"
     ]
    }
   ],
   "source": [
    "a=\"kazipet\"\n",
    "b=\"hanamkonda\"\n",
    "c=\"warangal\"\n",
    "print(a,b,c)\n",
    "print(a+b+c)\n",
    "print('a'+'b'+'c')\n",
    "print(a+'b'+c)\n",
    "print(\"a\"+b+c)\n",
    "print(a+''+b+''+c)"
   ]
  },
  {
   "cell_type": "code",
   "execution_count": 87,
   "id": "186520a9-54d1-4d39-b60d-362bc3c0a250",
   "metadata": {},
   "outputs": [
    {
     "name": "stdout",
     "output_type": "stream",
     "text": [
      "h_y_d_e_r_a_b_a_dh_y_d_e_r_a_b_a_d\n"
     ]
    }
   ],
   "source": [
    "a='h_y_d_e_r_a_b_a_d'\n",
    "print(a*2)"
   ]
  },
  {
   "cell_type": "code",
   "execution_count": 89,
   "id": "a8522cd7-60d5-4a0d-b174-b193a4718f98",
   "metadata": {},
   "outputs": [
    {
     "name": "stdout",
     "output_type": "stream",
     "text": [
      "True\n",
      "True\n"
     ]
    }
   ],
   "source": [
    "a='Tamilnadu'\n",
    "print('T' in a)\n",
    "print('d'in a)"
   ]
  },
  {
   "cell_type": "code",
   "execution_count": 91,
   "id": "417b454a-f96d-47ff-91d1-e4104c12bc64",
   "metadata": {},
   "outputs": [
    {
     "name": "stdout",
     "output_type": "stream",
     "text": [
      "False\n",
      "True\n"
     ]
    }
   ],
   "source": [
    "a='jammu kashmir'\n",
    "print('j' not in a)\n",
    "print('l' not in a)"
   ]
  },
  {
   "cell_type": "code",
   "execution_count": 92,
   "id": "f639a22f-3bd4-4a34-a087-e4a49738b30a",
   "metadata": {},
   "outputs": [
    {
     "name": "stdout",
     "output_type": "stream",
     "text": [
      "13\n"
     ]
    }
   ],
   "source": [
    "a='jammu kashmir'\n",
    "print(len(a))"
   ]
  },
  {
   "cell_type": "code",
   "execution_count": 93,
   "id": "fad912df-d1da-487e-b594-e5e6665b60f3",
   "metadata": {},
   "outputs": [
    {
     "name": "stdout",
     "output_type": "stream",
     "text": [
      "JAMMU KASHMIR\n"
     ]
    }
   ],
   "source": [
    "a='jammu kashmir'\n",
    "print(a.upper())"
   ]
  },
  {
   "cell_type": "code",
   "execution_count": 2,
   "id": "faa0e1e3-78b7-4338-9164-87161620cc60",
   "metadata": {},
   "outputs": [
    {
     "name": "stdout",
     "output_type": "stream",
     "text": [
      "tamilnadu\n",
      "tamilnadu\n",
      "tamilnadu\n"
     ]
    }
   ],
   "source": [
    "a='TAMILNADU'#single\n",
    "print(a.lower())\n",
    "a=\"TAMILNADU\"#double\n",
    "print(a.lower())\n",
    "a=\"\"\"TAMILNADU\"\"\"\n",
    "print(a.lower())#triple"
   ]
  },
  {
   "cell_type": "code",
   "execution_count": 98,
   "id": "e0ab8c4b-62d1-4ad6-9014-4bd4f0a7bd5f",
   "metadata": {},
   "outputs": [
    {
     "name": "stdout",
     "output_type": "stream",
     "text": [
      "Animal\n"
     ]
    }
   ],
   "source": [
    "a=\"\"\"animal\"\"\"\n",
    "print(a.capitalize())\n",
    "a='Anumakonda'\n",
    "print(a.capitalize())"
   ]
  },
  {
   "cell_type": "code",
   "execution_count": 101,
   "id": "a43063dc-d3e2-4fa9-b002-ceb2f14b56c8",
   "metadata": {},
   "outputs": [
    {
     "name": "stdout",
     "output_type": "stream",
     "text": [
      "Anumakonda\n"
     ]
    }
   ],
   "source": [
    "a='Anumakonda'\n",
    "print(a.capitalize())"
   ]
  },
  {
   "cell_type": "code",
   "execution_count": 104,
   "id": "c154f86d-3855-40f3-b1bf-3964b713ca39",
   "metadata": {},
   "outputs": [
    {
     "name": "stdout",
     "output_type": "stream",
     "text": [
      "Google\n"
     ]
    }
   ],
   "source": [
    "a=\"google\"\n",
    "print(a.title())"
   ]
  },
  {
   "cell_type": "code",
   "execution_count": 106,
   "id": "16cb5627-e99f-4acb-aeb7-c7629860f810",
   "metadata": {},
   "outputs": [
    {
     "name": "stdout",
     "output_type": "stream",
     "text": [
      "SAMEER\n",
      "sameer\n"
     ]
    }
   ],
   "source": [
    "a='sameer'\n",
    "b='SAMEER'\n",
    "print(a.swapcase())\n",
    "print(b.swapcase())"
   ]
  },
  {
   "cell_type": "code",
   "execution_count": 107,
   "id": "8cfd4111-b259-4f28-9df1-289a8be625db",
   "metadata": {},
   "outputs": [
    {
     "name": "stdout",
     "output_type": "stream",
     "text": [
      "tHE CITY OF pEARLS \"HYDERABAD\"\n"
     ]
    }
   ],
   "source": [
    "a='The city of Pearls \"hyderabad\"'#double quote inside single-quote\n",
    "print(a.swapcase()) "
   ]
  },
  {
   "cell_type": "code",
   "execution_count": 4,
   "id": "92f2af18-0331-44f1-b452-25e20f208153",
   "metadata": {},
   "outputs": [
    {
     "name": "stdout",
     "output_type": "stream",
     "text": [
      "True\n"
     ]
    }
   ],
   "source": [
    "a=('mulugu')\n",
    "print(a.isalpha())\n",
    "a=(\"mulugu\")\n",
    "print(a.isalpha())\n",
    "a=(\"\"\" mulugu \"\"\") #space couldn't be taken\n",
    "print(a.isalpha())"
   ]
  },
  {
   "cell_type": "code",
   "execution_count": 119,
   "id": "ed0caf95-7c14-4dea-9032-26386651d7cb",
   "metadata": {},
   "outputs": [
    {
     "name": "stdout",
     "output_type": "stream",
     "text": [
      "False\n"
     ]
    }
   ],
   "source": [
    "a='python'\n",
    "print(a.isdigit())"
   ]
  },
  {
   "cell_type": "code",
   "execution_count": 124,
   "id": "10e6a865-aba2-468c-98a0-f8bdc9c380d4",
   "metadata": {},
   "outputs": [
    {
     "name": "stdout",
     "output_type": "stream",
     "text": [
      "False\n",
      "False\n",
      "True\n"
     ]
    }
   ],
   "source": [
    "#isdigit()\n",
    "a='python'\n",
    "print(a.isdigit())\n",
    "a='2.2,2.3,2.1'\n",
    "print(a.isdigit())\n",
    "a='222'\n",
    "print(a.isdigit())"
   ]
  },
  {
   "cell_type": "code",
   "execution_count": 128,
   "id": "b44a0683-1d6d-4308-89ff-7dfe2543db8c",
   "metadata": {},
   "outputs": [
    {
     "name": "stdout",
     "output_type": "stream",
     "text": [
      "True\n",
      "False\n",
      "False\n"
     ]
    }
   ],
   "source": [
    "a='python477'\n",
    "print(a.isalnum())\n",
    "n='python 4 7 7'\n",
    "print(n.isalnum()) #spaces and dots doesnt work\n",
    "k='python 4.7.7'\n",
    "print(k.isalnum())"
   ]
  },
  {
   "cell_type": "code",
   "execution_count": 129,
   "id": "574a53a7-1d87-4d17-99d3-7b05079408d4",
   "metadata": {},
   "outputs": [
    {
     "name": "stdout",
     "output_type": "stream",
     "text": [
      "True\n"
     ]
    }
   ],
   "source": [
    "a='hussain'\n",
    "print(a.islower())\n"
   ]
  },
  {
   "cell_type": "code",
   "execution_count": 6,
   "id": "21db2b4b-c098-46ff-a8ae-3f30076068eb",
   "metadata": {},
   "outputs": [
    {
     "name": "stdout",
     "output_type": "stream",
     "text": [
      "True\n",
      "True\n",
      "True\n",
      "False\n"
     ]
    }
   ],
   "source": [
    "a='H U S S A I N'\n",
    "print(a.isupper())\n",
    "a='H U S S A '\n",
    "print(a.isupper())\n",
    "a=\"HUSSAIN\"\n",
    "print(a.isupper())\n",
    "a=\"HUssaIN\"\n",
    "print(a.isupper())\n"
   ]
  },
  {
   "cell_type": "code",
   "execution_count": 140,
   "id": "f525497e-b1c7-43b1-9eb2-434f550d19cc",
   "metadata": {},
   "outputs": [
    {
     "name": "stdout",
     "output_type": "stream",
     "text": [
      "True\n",
      "False\n"
     ]
    }
   ],
   "source": [
    "a=\"Hussain\"\n",
    "print(a.istitle())#only first letter should be capital \n",
    "a=\"ussain\"\n",
    "print(a.istitle())"
   ]
  },
  {
   "cell_type": "code",
   "execution_count": 7,
   "id": "caa994f3-8bba-44ad-b5c3-3662af3aa0d5",
   "metadata": {},
   "outputs": [
    {
     "name": "stdout",
     "output_type": "stream",
     "text": [
      "False\n",
      "True\n",
      "False\n"
     ]
    }
   ],
   "source": [
    "a=\"atamakoor\"\n",
    "print(a.isspace())\n",
    "a='    '\n",
    "print(a.isspace())\n",
    "a=' python '\n",
    "print(a.isspace())"
   ]
  },
  {
   "cell_type": "code",
   "execution_count": 155,
   "id": "5d21e8ce-7a4f-45ff-a6fe-a4f5d230a249",
   "metadata": {},
   "outputs": [
    {
     "name": "stdout",
     "output_type": "stream",
     "text": [
      "atamakoor   sam\n",
      "samatamakoor   \n"
     ]
    }
   ],
   "source": [
    "a=\"atamakoor   \"\n",
    "b=\"sam\"\n",
    "print(a+b)\n",
    "print(b.rstrip()+a)"
   ]
  },
  {
   "cell_type": "code",
   "execution_count": 166,
   "id": "b1c56113-e5fe-4d50-b2ca-f3fdf72f1982",
   "metadata": {},
   "outputs": [
    {
     "name": "stdout",
     "output_type": "stream",
     "text": [
      "shaiksameer\n",
      "   shaiksameer\n"
     ]
    }
   ],
   "source": [
    "a=\"   shaik\"\n",
    "b=\"sameer\"\n",
    "print(a.lstrip()+b)\n",
    "print(a+b)"
   ]
  },
  {
   "cell_type": "code",
   "execution_count": 168,
   "id": "1983a126-0cc6-4100-8712-4898710d8034",
   "metadata": {},
   "outputs": [
    {
     "name": "stdout",
     "output_type": "stream",
     "text": [
      "pyth on  sr  i  \n",
      "pyth onpyth on\n"
     ]
    }
   ],
   "source": [
    "#lstrip\n",
    "a='pyth on'\n",
    "b='  sr  i  '\n",
    "print(a+b)\n",
    "print(a.lstrip()+a)"
   ]
  },
  {
   "cell_type": "code",
   "execution_count": 170,
   "id": "78128068-f67c-404a-9de0-f07ea8bc2990",
   "metadata": {},
   "outputs": [
    {
     "name": "stdout",
     "output_type": "stream",
     "text": [
      "2\n"
     ]
    }
   ],
   "source": [
    "#count\n",
    "a='pyython'\n",
    "print(a.count('y'))"
   ]
  },
  {
   "cell_type": "code",
   "execution_count": 173,
   "id": "ae6a7b70-189f-48e3-8951-9ccf2cb40187",
   "metadata": {},
   "outputs": [
    {
     "name": "stdout",
     "output_type": "stream",
     "text": [
      "4\n",
      "1\n",
      "0\n"
     ]
    }
   ],
   "source": [
    "a='nothing is impossible'\n",
    "print(a.count('i'))\n",
    "print(a.count('m'))\n",
    "print(a.count('y'))"
   ]
  },
  {
   "cell_type": "code",
   "execution_count": 180,
   "id": "f68a7454-acab-4890-b552-bb6fcaef7b4e",
   "metadata": {
    "scrolled": true
   },
   "outputs": [
    {
     "name": "stdout",
     "output_type": "stream",
     "text": [
      "3\n",
      "0\n"
     ]
    },
    {
     "ename": "ValueError",
     "evalue": "substring not found",
     "output_type": "error",
     "traceback": [
      "\u001b[1;31m---------------------------------------------------------------------------\u001b[0m",
      "\u001b[1;31mValueError\u001b[0m                                Traceback (most recent call last)",
      "Cell \u001b[1;32mIn[180], line 6\u001b[0m\n\u001b[0;32m      4\u001b[0m \u001b[38;5;28mprint\u001b[39m(s\u001b[38;5;241m.\u001b[39mindex(\u001b[38;5;124m'\u001b[39m\u001b[38;5;124mi\u001b[39m\u001b[38;5;124m'\u001b[39m))\n\u001b[0;32m      5\u001b[0m \u001b[38;5;28mprint\u001b[39m(z\u001b[38;5;241m.\u001b[39mindex(\u001b[38;5;124m'\u001b[39m\u001b[38;5;124mm\u001b[39m\u001b[38;5;124m'\u001b[39m))\n\u001b[1;32m----> 6\u001b[0m \u001b[38;5;28mprint\u001b[39m(\u001b[43ma\u001b[49m\u001b[38;5;241;43m.\u001b[39;49m\u001b[43mindex\u001b[49m\u001b[43m(\u001b[49m\u001b[38;5;124;43m'\u001b[39;49m\u001b[38;5;124;43mz\u001b[39;49m\u001b[38;5;124;43m'\u001b[39;49m\u001b[43m)\u001b[49m)\n",
      "\u001b[1;31mValueError\u001b[0m: substring not found"
     ]
    }
   ],
   "source": [
    "#index()\n",
    "s='artificial intelligence'\n",
    "z='machine learning'\n",
    "print(s.index('i'))\n",
    "print(z.index('m'))\n",
    "print(a.index('z'))  #unknown value couldnt be counted"
   ]
  },
  {
   "cell_type": "code",
   "execution_count": 185,
   "id": "b3159c6e-98ec-4c93-82d8-1cd9668fd261",
   "metadata": {},
   "outputs": [
    {
     "name": "stdout",
     "output_type": "stream",
     "text": [
      "pusnabad\n",
      "himayathnagar\n"
     ]
    }
   ],
   "source": [
    "a=\"husnabad\"\n",
    "b=a.replace('hus','pus')\n",
    "c=a.replace('husnabad','himayathnagar')\n",
    "print(b)\n",
    "print(c)"
   ]
  },
  {
   "cell_type": "code",
   "execution_count": 9,
   "id": "14f25f1e-1c98-4985-afd4-3e0bacc6d71c",
   "metadata": {},
   "outputs": [
    {
     "name": "stdout",
     "output_type": "stream",
     "text": [
      "['do', 'die']\n",
      "<class 'str'>\n",
      "<class 'list'>\n"
     ]
    }
   ],
   "source": [
    "o='do die'\n",
    "t=o.split()\n",
    "print(t)\n",
    "print(type(o))\n",
    "print(type(t))#written type of split type is list type(output)"
   ]
  },
  {
   "cell_type": "code",
   "execution_count": 196,
   "id": "e6c7adce-cbe8-4eab-9814-ef2cc9e886b7",
   "metadata": {},
   "outputs": [
    {
     "name": "stdout",
     "output_type": "stream",
     "text": [
      "python\n",
      "is\n",
      "a\n",
      "high\n",
      "level\n",
      "language\n"
     ]
    }
   ],
   "source": [
    "s='python is a high level language'\n",
    "d=s.split()\n",
    "for i in d:\n",
    "    print(i)"
   ]
  },
  {
   "cell_type": "code",
   "execution_count": 199,
   "id": "c9549dfd-f00c-45f8-92fa-1a8f3a7768c8",
   "metadata": {},
   "outputs": [
    {
     "name": "stdout",
     "output_type": "stream",
     "text": [
      "20-12-2024\n"
     ]
    }
   ],
   "source": [
    "s='20-12-2024'\n",
    "f=s.split()\n",
    "for i in f:\n",
    "    print(i)"
   ]
  },
  {
   "cell_type": "code",
   "execution_count": 10,
   "id": "f4f5b3d3-8cd2-4235-b212-54bfd710087f",
   "metadata": {},
   "outputs": [
    {
     "name": "stdout",
     "output_type": "stream",
     "text": [
      "this-is-my-journey\n",
      "this:is:my:journey\n",
      "this~is~my~journey\n",
      "this;is;my;journey\n",
      "this_is_my_journey\n",
      "this#is#my#journey\n",
      "this$is$my$journey\n",
      "this%is%my%journey\n"
     ]
    }
   ],
   "source": [
    "quote=['this','is','my','journey']\n",
    "fact='-'.join(quote)\n",
    "print(fact)\n",
    "quote=['this','is','my','journey']\n",
    "fact=':'.join(quote)\n",
    "print(fact)\n",
    "quote=['this','is','my','journey']\n",
    "fact='~'.join(quote)\n",
    "print(fact)\n",
    "quote=['this','is','my','journey']\n",
    "fact=';'.join(quote)\n",
    "print(fact)\n",
    "quote=['this','is','my','journey']\n",
    "fact='_'.join(quote)\n",
    "print(fact)\n",
    "quote=['this','is','my','journey']\n",
    "fact='#'.join(quote)\n",
    "print(fact)\n",
    "quote=['this','is','my','journey']\n",
    "fact='$'.join(quote)\n",
    "print(fact)\n",
    "quote=['this','is','my','journey']\n",
    "fact='%'.join(quote)\n",
    "print(fact)"
   ]
  },
  {
   "cell_type": "code",
   "execution_count": 12,
   "id": "f3f04193-793e-4b91-a13e-a758c3ec5cb9",
   "metadata": {},
   "outputs": [
    {
     "name": "stdout",
     "output_type": "stream",
     "text": [
      "the sum of 12 and 11 is 23\n"
     ]
    }
   ],
   "source": [
    "#replacement operator{} format()\n",
    "a=12\n",
    "b=11\n",
    "c=(a+b)\n",
    "\n",
    "print('the sum of {} and {} is {}'.format(a,b,c))\n"
   ]
  },
  {
   "cell_type": "code",
   "execution_count": 232,
   "id": "1686c0ba-f5ab-409b-81fd-94f76b891609",
   "metadata": {},
   "outputs": [
    {
     "name": "stdout",
     "output_type": "stream",
     "text": [
      "raju's salary is 700000 and his age is 23\n"
     ]
    }
   ],
   "source": [
    "name='raju'\n",
    "salary=700000\n",
    "age=23\n",
    "print(\"{}'s salary is {} and his age is {}\".format(name,salary,age))"
   ]
  },
  {
   "cell_type": "code",
   "execution_count": 245,
   "id": "4b78653d-9d49-4757-b186-5b5f8663273a",
   "metadata": {
    "scrolled": true
   },
   "outputs": [
    {
     "name": "stdin",
     "output_type": "stream",
     "text": [
      "enter number of eggs: 10\n",
      "enter cost: 50\n"
     ]
    },
    {
     "name": "stdout",
     "output_type": "stream",
     "text": [
      "10 eggs each_egg_cost is 50 and total_cost is 500\n"
     ]
    }
   ],
   "source": [
    "num_of_eggs=int(input(\"enter number of eggs:\"))\n",
    "each_egg_cost=int(input(\"enter each egg cost:\"))\n",
    "total_cost=num_of_eggs*each_egg_cost\n",
    "print(\"{} eggs each_egg_cost is {} and total_cost is {}\".format(num_of_eggs,each_egg_cost,total_cost)) \n"
   ]
  },
  {
   "cell_type": "code",
   "execution_count": 267,
   "id": "b51b6293-323d-46a8-9234-3e18fa5e70ef",
   "metadata": {
    "scrolled": true
   },
   "outputs": [
    {
     "name": "stdout",
     "output_type": "stream",
     "text": [
      "119\n",
      "1\n",
      "2\n",
      "3\n",
      "4\n",
      "5\n"
     ]
    }
   ],
   "source": [
    "#wap to find number of elements in a list\n",
    "a=[4,8,9,90,8]\n",
    "print(sum(a))\n",
    "s=0\n",
    "for i in a:\n",
    "    s=s+1\n",
    "    print(s)"
   ]
  },
  {
   "cell_type": "markdown",
   "id": "e116276f-d8e7-4cb9-8be9-f4fe56227e05",
   "metadata": {},
   "source": [
    "##### "
   ]
  },
  {
   "cell_type": "code",
   "execution_count": 270,
   "id": "1c765e42-9348-4ca9-9059-9ed9222116e8",
   "metadata": {},
   "outputs": [
    {
     "name": "stdout",
     "output_type": "stream",
     "text": [
      "1\n"
     ]
    }
   ],
   "source": [
    "num=[1,7,8,9]\n",
    "lowest=min(num)\n",
    "print(lowest) #min by method1"
   ]
  },
  {
   "cell_type": "code",
   "execution_count": 273,
   "id": "4a543d9b-0884-434f-b1aa-b023c9ddc4e6",
   "metadata": {},
   "outputs": [
    {
     "name": "stdout",
     "output_type": "stream",
     "text": [
      "9\n"
     ]
    }
   ],
   "source": [
    "num=[1,7,8,9]\n",
    "maximum=max(num)\n",
    "print(maximum) #max by method1"
   ]
  },
  {
   "cell_type": "code",
   "execution_count": 269,
   "id": "78efc46e-81d7-47aa-a129-b62b69e12a7e",
   "metadata": {},
   "outputs": [
    {
     "name": "stdout",
     "output_type": "stream",
     "text": [
      "4\n",
      "1\n",
      "2\n",
      "3\n",
      "4\n",
      "5\n"
     ]
    }
   ],
   "source": [
    "a=[4,8,9,90,8]\n",
    "print(min(a))\n",
    "s=0\n",
    "for i in a:\n",
    "    s=s+1\n",
    "    print(s)#min by method-2  by using for loop"
   ]
  },
  {
   "cell_type": "code",
   "execution_count": 268,
   "id": "1803f40f-7c65-476e-85aa-a71a1e3ac5bb",
   "metadata": {},
   "outputs": [
    {
     "name": "stdout",
     "output_type": "stream",
     "text": [
      "90\n",
      "1\n",
      "2\n",
      "3\n",
      "4\n",
      "5\n"
     ]
    }
   ],
   "source": [
    "a=[4,8,9,90,8]\n",
    "print(max(a))\n",
    "s=0\n",
    "for i in a:\n",
    "    s=s+1\n",
    "    print(s)##max by method-2  by using for loop"
   ]
  },
  {
   "cell_type": "code",
   "execution_count": null,
   "id": "2eca5bbb-0a4e-4bf2-8526-d5bd09f380b1",
   "metadata": {},
   "outputs": [],
   "source": []
  }
 ],
 "metadata": {
  "kernelspec": {
   "display_name": "Python 3 (ipykernel)",
   "language": "python",
   "name": "python3"
  },
  "language_info": {
   "codemirror_mode": {
    "name": "ipython",
    "version": 3
   },
   "file_extension": ".py",
   "mimetype": "text/x-python",
   "name": "python",
   "nbconvert_exporter": "python",
   "pygments_lexer": "ipython3",
   "version": "3.13.1"
  }
 },
 "nbformat": 4,
 "nbformat_minor": 5
}
